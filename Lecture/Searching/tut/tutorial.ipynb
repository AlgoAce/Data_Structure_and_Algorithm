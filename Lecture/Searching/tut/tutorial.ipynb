{
 "cells": [
  {
   "attachments": {},
   "cell_type": "markdown",
   "metadata": {},
   "source": [
    "# Minimum Score of a Path Between Two Cities\n",
    "\n",
    "https://leetcode.com/problems/minimum-score-of-a-path-between-two-cities/description/"
   ]
  },
  {
   "cell_type": "code",
   "execution_count": 9,
   "metadata": {},
   "outputs": [],
   "source": [
    "import math\n",
    "from collections import defaultdict\n",
    "\n",
    "def minScore(n, roads):\n",
    "    m = defaultdict(list)\n",
    "        \n",
    "    for a,b,dist in roads:\n",
    "            m[a].append([b, dist])\n",
    "            m[b].append([a, dist])\n",
    "            \n",
    "    res = [math.inf]\n",
    "        \n",
    "    visit = set()\n",
    "        \n",
    "    def dfs(node):\n",
    "            \n",
    "        visit.add(node)\n",
    "            \n",
    "        for nei, cost in m[node]:\n",
    "            res[0] = min(res[0], cost)\n",
    "                \n",
    "            if nei in visit:\n",
    "                continue\n",
    "            dfs(nei)\n",
    "                \n",
    "    dfs(1)\n",
    "        \n",
    "    return res[0]\n"
   ]
  },
  {
   "cell_type": "code",
   "execution_count": 10,
   "metadata": {},
   "outputs": [
    {
     "data": {
      "text/plain": [
       "2"
      ]
     },
     "execution_count": 10,
     "metadata": {},
     "output_type": "execute_result"
    }
   ],
   "source": [
    "minScore(4, [[1,2,2],[1,3,4],[3,4,7]])"
   ]
  },
  {
   "cell_type": "code",
   "execution_count": 11,
   "metadata": {},
   "outputs": [
    {
     "data": {
      "text/plain": [
       "2"
      ]
     },
     "execution_count": 11,
     "metadata": {},
     "output_type": "execute_result"
    }
   ],
   "source": [
    "minScore(2, [[1,2,2],[1,3,4],[3,4,7]])"
   ]
  },
  {
   "cell_type": "markdown",
   "metadata": {},
   "source": [
    "## Q2. Number of Islands\n",
    "\n",
    "Given an m x n 2D binary grid grid which represents a map of '1's (land) and '0's (water), return the number of islands.\n",
    "\n",
    "An island is surrounded by water and is formed by connecting adjacent lands horizontally or vertically. You may assume all four edges of the grid are all surrounded by water.\n",
    "\n",
    "Example 1:\n",
    "```\n",
    "Input: grid = [\n",
    "  [\"1\",\"1\",\"1\",\"1\",\"0\"],\n",
    "  [\"1\",\"1\",\"0\",\"1\",\"0\"],\n",
    "  [\"1\",\"1\",\"0\",\"0\",\"0\"],\n",
    "  [\"0\",\"0\",\"0\",\"0\",\"0\"]\n",
    "]\n",
    "Output: 1\n",
    "```\n",
    "\n",
    "Example 2:\n",
    "\n",
    "```\n",
    "Input: grid = [\n",
    "  [\"1\",\"1\",\"0\",\"0\",\"0\"],\n",
    "  [\"1\",\"1\",\"0\",\"0\",\"0\"],\n",
    "  [\"0\",\"0\",\"1\",\"0\",\"0\"],\n",
    "  [\"0\",\"0\",\"0\",\"1\",\"1\"]\n",
    "]\n",
    "Output: 3\n",
    "```\n",
    "\n",
    "Constraints:\n",
    "\n",
    "m == grid.length <br />\n",
    "n == grid[i].length <br />\n",
    "1 <= m, n <= 300 <br />\n",
    "grid[i][j] is '0' or '1'."
   ]
  },
  {
   "cell_type": "code",
   "execution_count": 12,
   "metadata": {},
   "outputs": [
    {
     "ename": "NameError",
     "evalue": "name 'List' is not defined",
     "output_type": "error",
     "traceback": [
      "\u001b[0;31m---------------------------------------------------------------------------\u001b[0m",
      "\u001b[0;31mNameError\u001b[0m                                 Traceback (most recent call last)",
      "\u001b[1;32m/Users/dongpochen/Desktop/tutorial.ipynb Cell 6\u001b[0m in \u001b[0;36m<cell line: 1>\u001b[0;34m()\u001b[0m\n\u001b[0;32m----> <a href='vscode-notebook-cell:/Users/dongpochen/Desktop/tutorial.ipynb#W5sZmlsZQ%3D%3D?line=0'>1</a>\u001b[0m \u001b[39mclass\u001b[39;00m \u001b[39mSolution\u001b[39;00m:\n\u001b[1;32m      <a href='vscode-notebook-cell:/Users/dongpochen/Desktop/tutorial.ipynb#W5sZmlsZQ%3D%3D?line=1'>2</a>\u001b[0m     \u001b[39mdef\u001b[39;00m \u001b[39mnextIsland\u001b[39m(\u001b[39mself\u001b[39m, row, col, grid):\n\u001b[1;32m      <a href='vscode-notebook-cell:/Users/dongpochen/Desktop/tutorial.ipynb#W5sZmlsZQ%3D%3D?line=2'>3</a>\u001b[0m         \u001b[39mif\u001b[39;00m(grid[row][col] \u001b[39m==\u001b[39m \u001b[39m\"\u001b[39m\u001b[39m0\u001b[39m\u001b[39m\"\u001b[39m):\n",
      "\u001b[1;32m/Users/dongpochen/Desktop/tutorial.ipynb Cell 6\u001b[0m in \u001b[0;36mSolution\u001b[0;34m()\u001b[0m\n\u001b[1;32m     <a href='vscode-notebook-cell:/Users/dongpochen/Desktop/tutorial.ipynb#W5sZmlsZQ%3D%3D?line=13'>14</a>\u001b[0m     \u001b[39mif\u001b[39;00m col \u001b[39m+\u001b[39m \u001b[39m1\u001b[39m \u001b[39m<\u001b[39m width:\n\u001b[1;32m     <a href='vscode-notebook-cell:/Users/dongpochen/Desktop/tutorial.ipynb#W5sZmlsZQ%3D%3D?line=14'>15</a>\u001b[0m         \u001b[39mself\u001b[39m\u001b[39m.\u001b[39mnextIsland(row, col \u001b[39m+\u001b[39m \u001b[39m1\u001b[39m, grid)\n\u001b[0;32m---> <a href='vscode-notebook-cell:/Users/dongpochen/Desktop/tutorial.ipynb#W5sZmlsZQ%3D%3D?line=18'>19</a>\u001b[0m \u001b[39mdef\u001b[39;00m \u001b[39mnumIslands\u001b[39m(\u001b[39mself\u001b[39m, grid: List[List[\u001b[39mstr\u001b[39m]]) \u001b[39m-\u001b[39m\u001b[39m>\u001b[39m \u001b[39mint\u001b[39m:\n\u001b[1;32m     <a href='vscode-notebook-cell:/Users/dongpochen/Desktop/tutorial.ipynb#W5sZmlsZQ%3D%3D?line=19'>20</a>\u001b[0m     islands \u001b[39m=\u001b[39m \u001b[39m0\u001b[39m\n\u001b[1;32m     <a href='vscode-notebook-cell:/Users/dongpochen/Desktop/tutorial.ipynb#W5sZmlsZQ%3D%3D?line=20'>21</a>\u001b[0m     \u001b[39mfor\u001b[39;00m row \u001b[39min\u001b[39;00m \u001b[39mrange\u001b[39m(\u001b[39mlen\u001b[39m(grid)):\n",
      "\u001b[0;31mNameError\u001b[0m: name 'List' is not defined"
     ]
    }
   ],
   "source": [
    "class Solution:\n",
    "    def nextIsland(self, row, col, grid):\n",
    "        if(grid[row][col] == \"0\"):\n",
    "            return\n",
    "        height = len(grid)\n",
    "        width = len(grid[0])\n",
    "        grid[row][col] = \"0\"\n",
    "        if row - 1 >= 0:\n",
    "            self.nextIsland(row-1, col, grid)\n",
    "        if col - 1 >= 0:\n",
    "            self.nextIsland(row, col-1, grid)\n",
    "        if row + 1 < height:\n",
    "            self.nextIsland(row + 1, col, grid)\n",
    "        if col + 1 < width:\n",
    "            self.nextIsland(row, col + 1, grid)\n",
    "\n",
    "\n",
    "\n",
    "    def numIslands(self, grid: List[List[str]]) -> int:\n",
    "        islands = 0\n",
    "        for row in range(len(grid)):\n",
    "            for col in range(len(grid[0])):\n",
    "                if grid[row][col] == \"1\":\n",
    "                    self.nextIsland(row, col, grid)\n",
    "                    islands += 1\n",
    "\n",
    "        return islands\n",
    "    "
   ]
  },
  {
   "attachments": {},
   "cell_type": "markdown",
   "metadata": {},
   "source": [
    "# Try DFS on this grid search problem\n",
    "- Expand the succerrors in the order: up, left, right and down\n",
    "- Number the nodes as they are removed from the frontier\n",
    "- Use cycle pruning\n",
    "\n",
    "<img src=\"07.png\" />"
   ]
  },
  {
   "cell_type": "code",
   "execution_count": 1,
   "metadata": {},
   "outputs": [],
   "source": [
    "import vis"
   ]
  },
  {
   "cell_type": "code",
   "execution_count": 2,
   "metadata": {},
   "outputs": [],
   "source": [
    "grid = vis.generate_grid()\n",
    "START_STATE = (5, 3)\n",
    "GOAL_STATE = (2, 2)"
   ]
  },
  {
   "cell_type": "code",
   "execution_count": 3,
   "metadata": {},
   "outputs": [
    {
     "data": {
      "text/plain": [
       "[[' ', ' ', ' ', ' ', ' ', ' ', ' ', ' '],\n",
       " [' ', ' ', ' ', ' ', ' ', ' ', ' ', ' '],\n",
       " [' ', ' ', 'G', ' ', ' ', ' ', ' ', ' '],\n",
       " [' ', ' ', '*', '*', '*', '*', '*', ' '],\n",
       " [' ', '*', ' ', ' ', ' ', ' ', ' ', ' '],\n",
       " [' ', ' ', '*', 'S', ' ', ' ', '*', ' '],\n",
       " [' ', ' ', ' ', ' ', ' ', ' ', ' ', ' '],\n",
       " [' ', ' ', ' ', ' ', ' ', ' ', ' ', ' ']]"
      ]
     },
     "execution_count": 3,
     "metadata": {},
     "output_type": "execute_result"
    }
   ],
   "source": [
    "grid\n"
   ]
  },
  {
   "cell_type": "code",
   "execution_count": 4,
   "metadata": {},
   "outputs": [],
   "source": [
    "def get_cell(state, grid):\n",
    "    r, c = state\n",
    "    return grid[r][c]\n",
    "    \n",
    "def successor_function(state, grid):\n",
    "    # We expand the neighbour follow the order [up, left, right, down]\n",
    "    # Hence we push stack with order [down, right, left, up]\n",
    "    r, c = state\n",
    "    neighbour = []\n",
    "    \n",
    "    if (r + 1 < 8):\n",
    "        down = (r + 1, c)\n",
    "        if get_cell(down, grid) != '*': neighbour.append(down)\n",
    "    if (c + 1 < 8):\n",
    "        right = (r, c + 1)\n",
    "        if get_cell(right, grid) != '*': neighbour.append(right)\n",
    "    if (c - 1 >= 0):\n",
    "        left = (r, c - 1)\n",
    "        if get_cell(left, grid) != '*': neighbour.append(left)\n",
    "    if (r - 1 >= 0):\n",
    "        up = (r - 1, c)\n",
    "        if get_cell(up, grid) != '*': neighbour.append(up)\n",
    "    return neighbour\n",
    "\n",
    "def DFS(s, g, gird):\n",
    "    froniter = [s]\n",
    "    visited = []\n",
    "    while froniter != []:\n",
    "        state = froniter.pop()\n",
    "        if state == g:\n",
    "            print(len(visited))\n",
    "            return visited\n",
    "        elif (state not in visited):\n",
    "            neighbours = successor_function(state, gird)\n",
    "            froniter.extend(neighbours)\n",
    "        if (state not in visited):\n",
    "            visited.append(state)\n",
    "\n",
    "    print(\"no solution\")\n",
    "    print(visited)"
   ]
  },
  {
   "cell_type": "code",
   "execution_count": 5,
   "metadata": {},
   "outputs": [
    {
     "name": "stdout",
     "output_type": "stream",
     "text": [
      "29\n"
     ]
    }
   ],
   "source": [
    "path = DFS(START_STATE, GOAL_STATE, grid)"
   ]
  },
  {
   "cell_type": "code",
   "execution_count": null,
   "metadata": {},
   "outputs": [],
   "source": [
    "vis.draw_grid()"
   ]
  },
  {
   "cell_type": "code",
   "execution_count": null,
   "metadata": {},
   "outputs": [],
   "source": [
    "vis.draw_path(path)"
   ]
  },
  {
   "attachments": {},
   "cell_type": "markdown",
   "metadata": {},
   "source": [
    "# Try BFS on this grid search problem\n",
    "- Expand the succerrors in the order: down, left, up, right\n",
    "- Number the nodes as they are removed from the frontier\n",
    "- Use cycle pruning"
   ]
  },
  {
   "cell_type": "code",
   "execution_count": 6,
   "metadata": {},
   "outputs": [],
   "source": [
    "import queue\n",
    "\n",
    "def successor_function_BFS(state, grid):\n",
    "    # We expand [down, left, up, right]\n",
    "    r, c = state\n",
    "    neighbour = []\n",
    "    \n",
    "    if (r + 1 < 8):\n",
    "        down = (r + 1, c)\n",
    "        if get_cell(down, grid) != '*': neighbour.append(down)\n",
    "    if (c - 1 >= 0):\n",
    "        left = (r, c - 1)\n",
    "        if get_cell(left, grid) != '*': neighbour.append(left)\n",
    "    if (r - 1 >= 0):\n",
    "        up = (r - 1, c)\n",
    "        if get_cell(up, grid) != '*': neighbour.append(up)\n",
    "    if (c + 1 < 8):\n",
    "        right = (r, c + 1)\n",
    "        if get_cell(right, grid) != '*': neighbour.append(right)\n",
    "    return neighbour\n",
    "\n",
    "def BFS(s, g, gird):\n",
    "    froniter = queue.Queue()\n",
    "    froniter.put([s])\n",
    "    visited = []\n",
    "    while froniter.empty() == False:\n",
    "        path = froniter.get()\n",
    "        state = path[-1]\n",
    "        if state == g:\n",
    "            print(len(visited))\n",
    "            return path, visited\n",
    "        elif (state not in visited):\n",
    "            neighbours = successor_function_BFS(state, gird)\n",
    "            for neighbour in neighbours:\n",
    "                new_path = path + [neighbour]\n",
    "                froniter.put(new_path)\n",
    "\n",
    "        if (state not in visited):\n",
    "            visited.append(state)\n",
    "\n",
    "    print(\"no solution\")"
   ]
  },
  {
   "cell_type": "code",
   "execution_count": 7,
   "metadata": {},
   "outputs": [
    {
     "name": "stdout",
     "output_type": "stream",
     "text": [
      "43\n"
     ]
    }
   ],
   "source": [
    "bfs_path, visited = BFS(START_STATE, GOAL_STATE, grid)"
   ]
  },
  {
   "cell_type": "code",
   "execution_count": 8,
   "metadata": {},
   "outputs": [],
   "source": [
    "vis.draw_grid()"
   ]
  },
  {
   "cell_type": "code",
   "execution_count": 9,
   "metadata": {},
   "outputs": [],
   "source": [
    "vis.draw_visited(visited)"
   ]
  },
  {
   "cell_type": "code",
   "execution_count": 10,
   "metadata": {},
   "outputs": [],
   "source": [
    "vis.draw_grid()"
   ]
  },
  {
   "cell_type": "code",
   "execution_count": 11,
   "metadata": {},
   "outputs": [],
   "source": [
    "vis.draw_path(bfs_path)"
   ]
  },
  {
   "attachments": {},
   "cell_type": "markdown",
   "metadata": {},
   "source": [
    "# Try A* on grid search problem\n",
    "\n",
    "Use Manhattan distance as our heuristic function."
   ]
  },
  {
   "cell_type": "code",
   "execution_count": 14,
   "metadata": {},
   "outputs": [
    {
     "name": "stdout",
     "output_type": "stream",
     "text": [
      "(1, 'Riya')\n",
      "(2, 'Harry')\n",
      "(3, 'Charles')\n",
      "(4, 'Stacy')\n"
     ]
    }
   ],
   "source": [
    "from queue import PriorityQueue\n",
    "pqueue = PriorityQueue() \n",
    "pqueue.put((2, \"Harry\"))\n",
    "pqueue.put((3, \"Charles\"))\n",
    "pqueue.put((1, \"Riya\"))\n",
    "pqueue.put((4, \"Stacy\"))\n",
    "\n",
    "print(pqueue.get())\n",
    "print(pqueue.get())\n",
    "print(pqueue.get())\n",
    "print(pqueue.get())"
   ]
  }
 ],
 "metadata": {
  "kernelspec": {
   "display_name": "Python 3.11.1 64-bit",
   "language": "python",
   "name": "python3"
  },
  "language_info": {
   "codemirror_mode": {
    "name": "ipython",
    "version": 3
   },
   "file_extension": ".py",
   "mimetype": "text/x-python",
   "name": "python",
   "nbconvert_exporter": "python",
   "pygments_lexer": "ipython3",
   "version": "3.10.6 (v3.10.6:9c7b4bd164, Aug  1 2022, 17:13:48) [Clang 13.0.0 (clang-1300.0.29.30)]"
  },
  "orig_nbformat": 4,
  "vscode": {
   "interpreter": {
    "hash": "aee8b7b246df8f9039afb4144a1f6fd8d2ca17a180786b69acc140d282b71a49"
   }
  }
 },
 "nbformat": 4,
 "nbformat_minor": 2
}
