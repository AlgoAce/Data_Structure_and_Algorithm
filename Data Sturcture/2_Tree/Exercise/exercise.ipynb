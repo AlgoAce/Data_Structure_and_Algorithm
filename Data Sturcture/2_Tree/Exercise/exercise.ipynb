{
 "cells": [
  {
   "attachments": {},
   "cell_type": "markdown",
   "metadata": {},
   "source": [
    "# BST Delete\n",
    "\n",
    "Write the delete funciton for BST class"
   ]
  },
  {
   "cell_type": "code",
   "execution_count": null,
   "metadata": {},
   "outputs": [],
   "source": [
    "class Node:\n",
    "    def __init__(self, key):\n",
    "        self.left = None\n",
    "        self.right = None\n",
    "        self.val = key\n",
    "\n",
    "class BST:\n",
    "    def __init__(self):\n",
    "        self.root = None\n",
    "\n",
    "    def insert(self, root, key):\n",
    "        if root is None:\n",
    "            return Node(key)\n",
    "        else:\n",
    "            if root.val < key:\n",
    "                root.right = self.insert(root.right, key)\n",
    "            else:\n",
    "                root.left = self.insert(root.left, key)\n",
    "        return root\n",
    "\n",
    "    def search(self, root, key):\n",
    "        if root is None or root.val == key:\n",
    "            return root\n",
    "\n",
    "        if root.val < key:\n",
    "            return self.search(root.right, key)\n",
    "\n",
    "        return self.search(root.left, key)\n",
    "    \n",
    "    def delete(self, key):\n",
    "        pass"
   ]
  },
  {
   "attachments": {},
   "cell_type": "markdown",
   "metadata": {},
   "source": [
    "# In-order, pre-order, post order\n",
    "\n",
    "Implement in-order, pre-order and post-order traversal for the BST."
   ]
  },
  {
   "cell_type": "code",
   "execution_count": null,
   "metadata": {},
   "outputs": [],
   "source": []
  }
 ],
 "metadata": {
  "language_info": {
   "name": "python"
  },
  "orig_nbformat": 4
 },
 "nbformat": 4,
 "nbformat_minor": 2
}
