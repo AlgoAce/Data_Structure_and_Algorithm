{
 "cells": [
  {
   "cell_type": "code",
   "execution_count": 118,
   "metadata": {},
   "outputs": [],
   "source": [
    "class Node:\n",
    "    def __init__(self, key=None, data = None):\n",
    "      self.key = key\n",
    "      self.data = data\n",
    "      self.next_node = None\n"
   ]
  },
  {
   "cell_type": "code",
   "execution_count": 119,
   "metadata": {},
   "outputs": [],
   "source": [
    "def print_linked_lst(llst):\n",
    "    curnode = llst\n",
    "    while curnode:\n",
    "        print(curnode.key)\n",
    "        curnode = curnode.next_node"
   ]
  },
  {
   "attachments": {},
   "cell_type": "markdown",
   "metadata": {},
   "source": [
    "## Exercise 1\n",
    "Write a funtion that can covert a list of numbers to a linked list\n",
    "\n",
    "\n",
    "***Example***:\n",
    "```convert([2, 4, 7, 9, 11]) => 2->4->7->9->11->None```\n"
   ]
  },
  {
   "cell_type": "code",
   "execution_count": 120,
   "metadata": {},
   "outputs": [],
   "source": [
    "def convert(lst):\n",
    "    head, cur_node = None, None\n",
    "    for key in lst:\n",
    "        newNode = Node(key, \"Some data here\")\n",
    "        if (head == None):\n",
    "            head = newNode\n",
    "        else:\n",
    "            cur_node.next_node = newNode\n",
    "\n",
    "        cur_node = newNode\n",
    "\n",
    "    return head"
   ]
  },
  {
   "cell_type": "code",
   "execution_count": 121,
   "metadata": {},
   "outputs": [
    {
     "name": "stdout",
     "output_type": "stream",
     "text": [
      "2\n",
      "4\n",
      "7\n",
      "9\n",
      "11\n"
     ]
    }
   ],
   "source": [
    "lst = [2, 4, 7, 9, 11]\n",
    "\n",
    "linkedlist_1 = convert(lst)\n",
    "\n",
    "print_linked_lst(linkedlist_1)"
   ]
  },
  {
   "attachments": {},
   "cell_type": "markdown",
   "metadata": {},
   "source": [
    "## Exercise 2\n",
    "\n",
    "Write a function that can remove a specific key from a linked list, suppose the key is in the linked lst\n",
    "\n",
    "***Example***:\n",
    "\n",
    "```\n",
    "head_node = convert([2, 4, 7, 9, 11])\n",
    "\n",
    "remove(head_node, 9)\n",
    "```"
   ]
  },
  {
   "cell_type": "code",
   "execution_count": 122,
   "metadata": {},
   "outputs": [],
   "source": [
    "def rec(curNode, target_key, linked_lst, prvNode):\n",
    "    if curNode.key == target_key:\n",
    "        prvNode.next_node = curNode.next_node\n",
    "        return linked_lst\n",
    "\n",
    "    prvNode = curNode\n",
    "    curNode = curNode.next_node\n",
    "\n",
    "    return rec(curNode, target_key, linked_lst, prvNode)\n",
    "\n",
    "def remove(linked_lst, target_key):\n",
    "    curNode = linked_lst\n",
    "    prvNode = None\n",
    "    if curNode.key == target_key:\n",
    "        return curNode.next_node\n",
    "    return rec(curNode, target_key, linked_lst, prvNode)\n",
    "    \n",
    "    \n"
   ]
  },
  {
   "cell_type": "code",
   "execution_count": 123,
   "metadata": {},
   "outputs": [
    {
     "name": "stdout",
     "output_type": "stream",
     "text": [
      "4\n",
      "7\n",
      "9\n",
      "11\n"
     ]
    }
   ],
   "source": [
    "lst = [2, 4, 7, 9, 11]\n",
    "\n",
    "linkedlist_1 = convert(lst)\n",
    "linkedlist_2 = remove(linkedlist_1, 2)\n",
    "print_linked_lst(linkedlist_2)"
   ]
  }
 ],
 "metadata": {
  "kernelspec": {
   "display_name": "Python 3",
   "language": "python",
   "name": "python3"
  },
  "language_info": {
   "codemirror_mode": {
    "name": "ipython",
    "version": 3
   },
   "file_extension": ".py",
   "mimetype": "text/x-python",
   "name": "python",
   "nbconvert_exporter": "python",
   "pygments_lexer": "ipython3",
   "version": "3.10.6 (v3.10.6:9c7b4bd164, Aug  1 2022, 17:13:48) [Clang 13.0.0 (clang-1300.0.29.30)]"
  },
  "orig_nbformat": 4,
  "vscode": {
   "interpreter": {
    "hash": "aee8b7b246df8f9039afb4144a1f6fd8d2ca17a180786b69acc140d282b71a49"
   }
  }
 },
 "nbformat": 4,
 "nbformat_minor": 2
}
