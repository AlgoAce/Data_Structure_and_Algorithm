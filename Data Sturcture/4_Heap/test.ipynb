{
 "cells": [
  {
   "cell_type": "code",
   "execution_count": 1,
   "metadata": {},
   "outputs": [
    {
     "name": "stdout",
     "output_type": "stream",
     "text": [
      "           0\n",
      "\n",
      "          000\n",
      "\n",
      "         00000\n",
      "\n",
      "        0000000\n",
      "\n",
      "       000000000\n",
      "\n",
      "      00000000000\n",
      "\n",
      "     0000000000000\n",
      "\n",
      "    000000000000000\n",
      "\n",
      "   00000000000000000\n",
      "\n",
      "  0000000000000000000\n",
      "\n",
      " 000000000000000000000\n",
      "\n",
      "00000000000000000000000\n",
      "\n",
      "\n"
     ]
    }
   ],
   "source": [
    "n = 12\n",
    "for i in range(1, n + 1):\n",
    "\n",
    "    # space\n",
    "    for k in range(1, n - i + 1):\n",
    "        print(\" \", end='')\n",
    "\n",
    "    \n",
    "    # shuzi\n",
    "    for j in range(i * 2 - 1):\n",
    "        if n >= 10:\n",
    "            print(\"0\", end='')\n",
    "        else:\n",
    "            print(i, end='')\n",
    "\n",
    "    print(\"\\n\")\n",
    "print()"
   ]
  }
 ],
 "metadata": {
  "kernelspec": {
   "display_name": "Python 3",
   "language": "python",
   "name": "python3"
  },
  "language_info": {
   "codemirror_mode": {
    "name": "ipython",
    "version": 3
   },
   "file_extension": ".py",
   "mimetype": "text/x-python",
   "name": "python",
   "nbconvert_exporter": "python",
   "pygments_lexer": "ipython3",
   "version": "3.10.6"
  }
 },
 "nbformat": 4,
 "nbformat_minor": 2
}
