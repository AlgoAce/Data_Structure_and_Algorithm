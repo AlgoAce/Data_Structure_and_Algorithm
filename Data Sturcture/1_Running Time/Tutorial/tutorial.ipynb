{
 "cells": [
  {
   "attachments": {},
   "cell_type": "markdown",
   "metadata": {},
   "source": [
    "### Question 1\n",
    "\n",
    "Proof the following statement"
   ]
  },
  {
   "attachments": {},
   "cell_type": "markdown",
   "metadata": {},
   "source": [
    "1. $12n^3 − 11n^2 + 10 \\in O(n^3) $"
   ]
  },
  {
   "cell_type": "markdown",
   "metadata": {},
   "source": []
  },
  {
   "attachments": {},
   "cell_type": "markdown",
   "metadata": {},
   "source": [
    "### Question 2\n",
    "\n",
    "We consider two algorithms, Algo1 and Algo2, that solve the same problem. <br/>\n",
    "For any input of size n, Algo1 takes time T1(n) and Algo2 takes time T2(n).  <br/>\n",
    "Prove or disprove the following statement.  <br/>\n",
    "To prove a statement, you should provide a formal proof that is based on the definitions of the order notations.  <br/>\n",
    "To disprove a statement, provide a counter example and explain it."
   ]
  },
  {
   "attachments": {},
   "cell_type": "markdown",
   "metadata": {},
   "source": [
    "Suppose that T1(n) ∈ O(n2) and T2(n) ∈ O(n3).  <br/>\n",
    "Does it imply that there exists n0 such that for n ≥ n0, Algo1 runs faster than Algo2 on inputs of size n? "
   ]
  },
  {
   "cell_type": "markdown",
   "metadata": {},
   "source": []
  },
  {
   "attachments": {},
   "cell_type": "markdown",
   "metadata": {},
   "source": [
    "### Question 3\n",
    "\n",
    "Analyze the following pieces of pseudocode and give an (O) bound on the running time as a function of n. \n",
    "\n",
    "(in all cases, n is assumed to be a positive integer). "
   ]
  },
  {
   "attachments": {},
   "cell_type": "markdown",
   "metadata": {},
   "source": [
    "#1\n",
    "```python\n",
    "s = 0 \n",
    "for i = 1 to n * n * n do \n",
    "    for j = 1 to i * i do \n",
    "        s = s + 1\n",
    "``` "
   ]
  },
  {
   "cell_type": "markdown",
   "metadata": {},
   "source": []
  },
  {
   "attachments": {},
   "cell_type": "markdown",
   "metadata": {},
   "source": [
    "#2\n",
    "```python\n",
    "p = 1 \n",
    "s = 0 \n",
    "for i = 1 to n do \n",
    "    p = p * 5 \n",
    "        for j = 1 to p do \n",
    "            s = s + 1 \n",
    "```"
   ]
  },
  {
   "cell_type": "markdown",
   "metadata": {},
   "source": []
  },
  {
   "attachments": {},
   "cell_type": "markdown",
   "metadata": {},
   "source": [
    "#3\n",
    "```python\n",
    "s = n \n",
    "while (s > 4) \n",
    "    if (s is even) \n",
    "        s = s / 2 \n",
    "    else \n",
    "        s = s - 1 \n",
    "```"
   ]
  },
  {
   "cell_type": "markdown",
   "metadata": {},
   "source": []
  },
  {
   "attachments": {},
   "cell_type": "markdown",
   "metadata": {},
   "source": [
    "#4\n",
    "```python\n",
    "i = 2 \n",
    "x = 0 \n",
    "while (i < n) \n",
    "    for j = 1 to n \n",
    "        x = x + 1 \n",
    "    i = i * i * i \n",
    "```"
   ]
  },
  {
   "cell_type": "markdown",
   "metadata": {},
   "source": []
  }
 ],
 "metadata": {
  "language_info": {
   "name": "python"
  },
  "orig_nbformat": 4
 },
 "nbformat": 4,
 "nbformat_minor": 2
}
