{
 "cells": [
  {
   "attachments": {},
   "cell_type": "markdown",
   "metadata": {},
   "source": [
    "# Running Time I\n",
    "What is the running time of the below funcitons? use big O notation\n",
    "\n",
    "```Python\n",
    "def foo(L):\n",
    "    for i in range(n):\n",
    "            for j in range(n):\n",
    "                print (i * j)\n",
    "```\n",
    "\n",
    "```Python\n",
    "def foo(L):\n",
    "    for i in range(n):\n",
    "        if (i == n // 2):\n",
    "            for j in range(i):\n",
    "                print (j)\n",
    "```"
   ]
  },
  {
   "attachments": {},
   "cell_type": "markdown",
   "metadata": {},
   "source": [
    "# Running Time II\n",
    "What is the running time of the above funcitons? use big O notation\n",
    "\n",
    "```Python\n",
    "def foo(L):\n",
    "    if (n <= 0):\n",
    "        return 0\n",
    "    else:\n",
    "        return foo(n // 2) + 1\n",
    "```\n",
    "\n",
    "```Python\n",
    "def foo(L):\n",
    "    if (n <= 0):\n",
    "        return 0\n",
    "    else:\n",
    "        return foo(n / 2) + foo(n / 4)\n",
    "```"
   ]
  }
 ],
 "metadata": {
  "language_info": {
   "name": "python"
  },
  "orig_nbformat": 4
 },
 "nbformat": 4,
 "nbformat_minor": 2
}
