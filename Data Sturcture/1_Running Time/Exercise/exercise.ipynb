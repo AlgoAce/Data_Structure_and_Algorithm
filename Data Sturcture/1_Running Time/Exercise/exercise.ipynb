{
 "cells": [
  {
   "attachments": {},
   "cell_type": "markdown",
   "metadata": {},
   "source": [
    "# Exercise 1\n",
    "\n",
    "Prove\n",
    "- $f(n) = 2023$, $g(n) = 1$, $f(n) \\in O(g(n))$\n",
    "- $f(n) = n$, $g(n) = n^2$, $f(n) \\in O(g(n))$\n",
    "- $f(n) = n + \\log n$, $g(n) = n$, $f(n) \\in O(g(n))$"
   ]
  },
  {
   "attachments": {},
   "cell_type": "markdown",
   "metadata": {},
   "source": []
  },
  {
   "attachments": {},
   "cell_type": "markdown",
   "metadata": {},
   "source": [
    "# Exercise 2\n",
    "\n",
    "Bound the following $f(n)$ in big-O notation.\n",
    "\n",
    "$$\n",
    "\\begin{aligned}\n",
    "    f(n) = n * \\log (n - 1)\\\\\n",
    "    f(n) = n * (n^2 + 2 \\log(n))\\\\\n",
    "    f(n) = 1 + f(n / 2)\\\\\n",
    "    f(n) = n + f(n - 1)\\\\\n",
    "    f(n) = f(n - 1) + f(n - 1)\\\\\n",
    "\\end{aligned}\n",
    "$$"
   ]
  },
  {
   "attachments": {},
   "cell_type": "markdown",
   "metadata": {},
   "source": []
  },
  {
   "attachments": {},
   "cell_type": "markdown",
   "metadata": {},
   "source": [
    "# Exercise III\n",
    "What is the running time of the below code? Write in Big O form.\n",
    "\n",
    "```Python\n",
    "def foo(L):\n",
    "    for i in range (10000000):\n",
    "        print(i)\n",
    "```\n",
    "\n",
    "```Python\n",
    "def foo(L):\n",
    "    n = len(L)\n",
    "    for i in range(n):\n",
    "        for j in range(n):\n",
    "            print (i * j)\n",
    "```\n",
    "\n",
    "```Python\n",
    "def foo(L):\n",
    "    n = len(L)\n",
    "    for i in range(n):\n",
    "        if (i == n // 2):\n",
    "            for j in range(i):\n",
    "                print (j)\n",
    "```"
   ]
  },
  {
   "attachments": {},
   "cell_type": "markdown",
   "metadata": {},
   "source": []
  },
  {
   "attachments": {},
   "cell_type": "markdown",
   "metadata": {},
   "source": [
    "# Exercise IV\n",
    "```Python\n",
    "def foo(n):\n",
    "    temp = 0\n",
    "    for i in range(n):\n",
    "        temp += 1\n",
    "    \n",
    "    if (n <= 0):\n",
    "        return 0\n",
    "    else:\n",
    "        return foo(n / 2) + foo(n / 2)\n",
    "```"
   ]
  },
  {
   "attachments": {},
   "cell_type": "markdown",
   "metadata": {},
   "source": []
  }
 ],
 "metadata": {
  "language_info": {
   "name": "python"
  },
  "orig_nbformat": 4
 },
 "nbformat": 4,
 "nbformat_minor": 2
}
