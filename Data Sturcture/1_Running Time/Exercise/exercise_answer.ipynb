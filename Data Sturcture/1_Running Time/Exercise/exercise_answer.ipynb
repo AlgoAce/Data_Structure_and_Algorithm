{
 "cells": [
  {
   "attachments": {},
   "cell_type": "markdown",
   "metadata": {},
   "source": [
    "# Exercise 1\n",
    "\n",
    "Prove\n",
    "- $f(n) = 2023$, $g(n) = 1$, $f(n) \\in O(g(n))$\n",
    "- $f(n) = n$, $g(n) = n^2$, $f(n) \\in O(g(n))$\n",
    "- $f(n) = n + \\log n$, $g(n) = n$, $f(n) \\in O(g(n))$"
   ]
  },
  {
   "attachments": {},
   "cell_type": "markdown",
   "metadata": {},
   "source": [
    "$f(n) = 2023$, $g(n) = 1$, $f(n) \\in O(g(n))$\n",
    "\n",
    "if we take c = 2024, n_0 = 0, then for all $n \\geq n_0$, we can say that $|f (n)| \\leq c |g(n)|$. "
   ]
  },
  {
   "attachments": {},
   "cell_type": "markdown",
   "metadata": {},
   "source": [
    "$f(n) = n$, $g(n) = n^2$, $f(n) \\in O(g(n))$\n",
    "\n",
    "if we take c = 1, n_0 = 1, then for all $n \\geq n_0$, we can say that $|f (n)| \\leq c |g(n)|$. "
   ]
  },
  {
   "attachments": {},
   "cell_type": "markdown",
   "metadata": {},
   "source": [
    "$f(n) = n + \\log n$, $g(n) = n$, $f(n) \\in O(g(n))$\n",
    "\n",
    "if we take c = 1, n_0 = 2, then for all n \\geq n_0$, we can say that $|f (n)| \\leq c |g(n)|$. "
   ]
  },
  {
   "attachments": {},
   "cell_type": "markdown",
   "metadata": {},
   "source": [
    "# Exercise 2\n",
    "\n",
    "Bound the following $f(n)$ in big-O notation.\n",
    "\n",
    "$$\n",
    "\\begin{aligned}\n",
    "    f(n) = n * \\log (n - 1)\\\\\n",
    "    f(n) = n * (n^2 + 2 \\log(n))\\\\\n",
    "    f(n) = 1 + f(n / 2)\\\\\n",
    "    f(n) = n + f(n - 1)\\\\\n",
    "    f(n) = f(n - 1) + f(n - 1)\\\\\n",
    "\\end{aligned}\n",
    "$$\n"
   ]
  },
  {
   "attachments": {},
   "cell_type": "markdown",
   "metadata": {},
   "source": [
    "## Answer:"
   ]
  },
  {
   "attachments": {},
   "cell_type": "markdown",
   "metadata": {},
   "source": [
    "$$\n",
    "\\begin{aligned}\n",
    "    f(n) = n * \\log (n - 1) \\in O(n \\log n)\\\\\n",
    "    f(n) = n * (n^2 + 2 \\log(n)) \\in O(n^3)\\\\\n",
    "    f(n) = 1 + f(n / 2)  \\in O(\\log n)\n",
    "\\end{aligned}"
   ]
  },
  {
   "attachments": {},
   "cell_type": "markdown",
   "metadata": {},
   "source": [
    "$$\n",
    "\\begin{aligned}\n",
    "    f(n) = n + f(n - 1) \\in O(n^2)\n",
    "\\end{aligned}\n",
    "$$"
   ]
  },
  {
   "attachments": {},
   "cell_type": "markdown",
   "metadata": {},
   "source": [
    "$$\n",
    "\\begin{aligned}\n",
    "    f(n) = f(n - 1) + f(n - 1) \\in O(2^n)\n",
    "\\end{aligned}\n",
    "$$"
   ]
  },
  {
   "attachments": {},
   "cell_type": "markdown",
   "metadata": {},
   "source": [
    "# Exercise III\n",
    "What is the running time of the below code? Write in Big O form.\n",
    "\n",
    "```Python\n",
    "def foo(L):\n",
    "    for i in range (10000000):\n",
    "        print(i)\n",
    "```\n",
    "\n",
    "$T(n) = 10000000 \\in O(1)$"
   ]
  },
  {
   "attachments": {},
   "cell_type": "markdown",
   "metadata": {},
   "source": [
    "```Python\n",
    "def foo(L):\n",
    "    n = len(L)\n",
    "    for i in range(n):\n",
    "        for j in range(n):\n",
    "            print (i * j)\n",
    "```\n",
    "$T(n) = n * n \\in O(n^2)$"
   ]
  },
  {
   "attachments": {},
   "cell_type": "markdown",
   "metadata": {},
   "source": [
    "```Python\n",
    "def foo(L):\n",
    "    n = len(L)\n",
    "    for i in range(n):\n",
    "        if (i == n // 2):\n",
    "            for j in range(i):\n",
    "                print (j)\n",
    "```\n",
    "$T(n) = O(\\frac{n}{2})$"
   ]
  },
  {
   "cell_type": "code",
   "execution_count": 3,
   "metadata": {},
   "outputs": [
    {
     "name": "stdout",
     "output_type": "stream",
     "text": [
      "0\n",
      "1\n"
     ]
    }
   ],
   "source": [
    "def foo(L):\n",
    "    n = len(L)\n",
    "    for i in range(n):\n",
    "        if (i == n // 2):\n",
    "            for j in range(i):\n",
    "                print (j)\n",
    "\n",
    "L = [1, 2, 3, 4, 5]\n",
    "foo(L)"
   ]
  },
  {
   "attachments": {},
   "cell_type": "markdown",
   "metadata": {},
   "source": [
    "# Exercise IV\n",
    "```Python\n",
    "def foo(n):\n",
    "    temp = 0\n",
    "    for i in range(n):\n",
    "        temp += 1\n",
    "    \n",
    "    if (n <= 0):\n",
    "        return 0\n",
    "    else:\n",
    "        return foo(n / 2) + foo(n / 2)\n",
    "```"
   ]
  },
  {
   "attachments": {},
   "cell_type": "markdown",
   "metadata": {},
   "source": [
    "$T(n) = n + T(n/2) + T(n/2)$\n",
    "\n",
    "$\n",
    "T(n) \\in O(n \\log n)\n",
    "$"
   ]
  }
 ],
 "metadata": {
  "kernelspec": {
   "display_name": "Python 3",
   "language": "python",
   "name": "python3"
  },
  "language_info": {
   "codemirror_mode": {
    "name": "ipython",
    "version": 3
   },
   "file_extension": ".py",
   "mimetype": "text/x-python",
   "name": "python",
   "nbconvert_exporter": "python",
   "pygments_lexer": "ipython3",
   "version": "3.10.6"
  },
  "orig_nbformat": 4
 },
 "nbformat": 4,
 "nbformat_minor": 2
}
