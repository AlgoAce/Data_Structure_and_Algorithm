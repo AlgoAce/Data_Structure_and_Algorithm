{
 "cells": [
  {
   "attachments": {},
   "cell_type": "markdown",
   "metadata": {},
   "source": [
    "# Linked List"
   ]
  },
  {
   "cell_type": "code",
   "execution_count": null,
   "metadata": {},
   "outputs": [],
   "source": [
    "class Node:\n",
    "    def __init__(self, data = None):\n",
    "      self.data = data\n",
    "      self.next_node = None\n",
    "\n",
    "class LinkedList:\n",
    "    def __init__(self):\n",
    "      self.head = None\n",
    "\n",
    "    def insert(self, data):\n",
    "        if not self.head:\n",
    "            self.head = Node(data)\n",
    "        else:\n",
    "            new_head = Node(data)\n",
    "            new_head.next_node = self.head\n",
    "\n",
    "            self.head = new_head\n",
    "\n",
    "    def search(self, data):\n",
    "        current = self.head\n",
    "        while current:\n",
    "            if current.data == data:\n",
    "                return True\n",
    "            current = current.next\n",
    "        return False\n",
    "\n",
    "    def delete(self, data):\n",
    "        pass"
   ]
  },
  {
   "attachments": {},
   "cell_type": "markdown",
   "metadata": {},
   "source": [
    "# Doubly Linked List"
   ]
  },
  {
   "cell_type": "code",
   "execution_count": null,
   "metadata": {},
   "outputs": [],
   "source": [
    "class Node:\n",
    "    def __init__(self, data=None):\n",
    "        self.data = data\n",
    "        self.next = None\n",
    "        self.prev = None\n",
    "\n",
    "class DoublyLinkedList:\n",
    "    def __init__(self):\n",
    "        self.head = None\n",
    "\n",
    "    def insert(self, data):\n",
    "        pass\n",
    "\n",
    "    def search(self, data):\n",
    "        pass\n",
    "\n",
    "    def delete(self, data):\n",
    "        pass"
   ]
  },
  {
   "attachments": {},
   "cell_type": "markdown",
   "metadata": {},
   "source": [
    "# Palindrome Linked List\n",
    "\n",
    "Given the ```head``` of a singly linked list, return ```true``` if it is a  palindrome or ```false``` otherwise.\n",
    "\n",
    "***Expected Running Time: O(n)***\n"
   ]
  },
  {
   "cell_type": "code",
   "execution_count": null,
   "metadata": {},
   "outputs": [],
   "source": [
    "class Node:\n",
    "    def __init__(self, data = None):\n",
    "      self.data = data\n",
    "      self.next_node = None\n",
    "\n",
    "class LinkedList:\n",
    "    def __init__(self, lst):\n",
    "      self.head = None\n",
    "\n",
    "      for data in lst:\n",
    "         self.insert(data)\n",
    "    \n",
    "    def insert(self, data):\n",
    "        if not self.head:\n",
    "            self.head = Node(data)\n",
    "        else:\n",
    "            new_head = Node(data)\n",
    "            new_head.next_node = self.head\n",
    "\n",
    "            self.head = new_head\n",
    "    \n",
    "    def show(self):\n",
    "       cur_node = self.head\n",
    "\n",
    "       while (cur_node):\n",
    "            print(cur_node.data, end = ' ')\n",
    "            cur_node = cur_node.next_node"
   ]
  },
  {
   "cell_type": "code",
   "execution_count": null,
   "metadata": {},
   "outputs": [],
   "source": [
    "def palindrome_linked_list(head): # type head: ListNode\n",
    "    pass"
   ]
  },
  {
   "cell_type": "code",
   "execution_count": null,
   "metadata": {},
   "outputs": [],
   "source": [
    "head = [1,2,2,1]\n",
    "lnklst = LinkedList(head)\n",
    "lnklst.show()"
   ]
  },
  {
   "cell_type": "code",
   "execution_count": null,
   "metadata": {},
   "outputs": [],
   "source": [
    "head = [1,2,2,1]\n",
    "palindrome_linked_list(head) # True\n"
   ]
  },
  {
   "cell_type": "code",
   "execution_count": null,
   "metadata": {},
   "outputs": [],
   "source": [
    "head = [1,2]\n",
    "palindrome_linked_list(head) # False"
   ]
  }
 ],
 "metadata": {
  "kernelspec": {
   "display_name": "Python 3",
   "language": "python",
   "name": "python3"
  },
  "language_info": {
   "name": "python",
   "version": "3.10.6"
  },
  "orig_nbformat": 4
 },
 "nbformat": 4,
 "nbformat_minor": 2
}
