{
 "cells": [
  {
   "attachments": {},
   "cell_type": "markdown",
   "metadata": {},
   "source": [
    "# Linked List\n",
    "\n",
    "Write the delete funciton in class LinkedList"
   ]
  },
  {
   "cell_type": "code",
   "execution_count": 83,
   "metadata": {},
   "outputs": [],
   "source": [
    "class Node:\n",
    "    def __init__(self, data):\n",
    "      self.data = data\n",
    "      self.next_node = None\n",
    "\n",
    "class LinkedList:\n",
    "    def __init__(self):\n",
    "      self.head = None\n",
    "\n",
    "    def insert(self, data):\n",
    "        if self.head == None:\n",
    "            self.head = Node(data)\n",
    "        else:\n",
    "            new_head = Node(data)\n",
    "            new_head.next_node = self.head\n",
    "\n",
    "            self.head = new_head\n",
    "\n",
    "    def search(self, data):\n",
    "        current = self.head\n",
    "        while current:\n",
    "            if current.data == data:\n",
    "                return True\n",
    "            current = current.next_node\n",
    "        return False\n",
    "\n",
    "    def delete(self, data):\n",
    "        current = self.head\n",
    "        prev = None\n",
    "        while current:\n",
    "            if current.data == data:\n",
    "                if prev == None:\n",
    "                    self.head = current.next_node\n",
    "                else:\n",
    "                    prev.next_node = current.next_node\n",
    "\n",
    "                return \n",
    "            prev = current\n",
    "            current = current.next_node\n",
    "\n",
    "\n",
    "    def show(self):\n",
    "        current = self.head\n",
    "\n",
    "        while current:\n",
    "            print(current.data, end = ' ')\n",
    "            current = current.next_node"
   ]
  },
  {
   "cell_type": "code",
   "execution_count": 84,
   "metadata": {},
   "outputs": [
    {
     "name": "stdout",
     "output_type": "stream",
     "text": [
      "5 7 3 2 "
     ]
    }
   ],
   "source": [
    "lnkLst = LinkedList()\n",
    "lnkLst.insert(2)\n",
    "lnkLst.insert(3)\n",
    "lnkLst.insert(7)\n",
    "lnkLst.insert(5)\n",
    "\n",
    "lnkLst.show()"
   ]
  },
  {
   "cell_type": "code",
   "execution_count": 85,
   "metadata": {},
   "outputs": [
    {
     "name": "stdout",
     "output_type": "stream",
     "text": [
      "7 3 2 "
     ]
    }
   ],
   "source": [
    "lnkLst.delete(5)\n",
    "lnkLst.show()"
   ]
  },
  {
   "cell_type": "code",
   "execution_count": 86,
   "metadata": {},
   "outputs": [
    {
     "name": "stdout",
     "output_type": "stream",
     "text": [
      "7 2 "
     ]
    }
   ],
   "source": [
    "lnkLst.delete(3)\n",
    "lnkLst.show()"
   ]
  },
  {
   "attachments": {},
   "cell_type": "markdown",
   "metadata": {},
   "source": [
    "# Doubly Linked List"
   ]
  },
  {
   "cell_type": "code",
   "execution_count": 87,
   "metadata": {},
   "outputs": [],
   "source": [
    "class Node:\n",
    "    def __init__(self, data=None):\n",
    "        self.data = data\n",
    "        self.next = None\n",
    "        self.prev = None\n",
    "\n",
    "class DoublyLinkedList:\n",
    "    def __init__(self):\n",
    "        self.head = None\n",
    "        self.tail = None\n",
    "\n",
    "    def insert(self, data):\n",
    "        if self.head == None:\n",
    "            new_head = Node(data)\n",
    "            self.head = new_head\n",
    "            self.tail = new_head\n",
    "        else:\n",
    "            new_head = Node(data)\n",
    "\n",
    "            self.head.prev = new_head\n",
    "            new_head.next = self.head\n",
    "\n",
    "            self.head = new_head\n",
    "\n",
    "    def search(self, data):\n",
    "        current = self.head\n",
    "        while current:\n",
    "            if current.data == data:\n",
    "                return True\n",
    "            current = current.next\n",
    "        return False\n",
    "\n",
    "    def delete(self, data):\n",
    "        current = self.head\n",
    "        while current:\n",
    "            if current.data == data:\n",
    "                if current.prev == None:\n",
    "                    self.head = current.next\n",
    "                    self.head.prev = None\n",
    "                else:\n",
    "                    if current.next == None:\n",
    "                        self.tail = current.prev\n",
    "                        \n",
    "                    current.prev.next = current.next\n",
    "                    current.next.prev = current.prev\n",
    "\n",
    "                    \n",
    "                \n",
    "                return \n",
    "                    \n",
    "            current = current.next\n",
    "\n",
    "    def show(self):\n",
    "        current = self.head\n",
    "\n",
    "        while current:\n",
    "            print(current.data, end = ' ')\n",
    "            current = current.next\n",
    "\n",
    "    def show_reverse(self):\n",
    "        current = self.tail\n",
    "\n",
    "        while current:\n",
    "            print(current.data, end = ' ')\n",
    "            current = current.prev\n"
   ]
  },
  {
   "cell_type": "code",
   "execution_count": 88,
   "metadata": {},
   "outputs": [
    {
     "name": "stdout",
     "output_type": "stream",
     "text": [
      "5 7 3 2 "
     ]
    }
   ],
   "source": [
    "lnkLst = DoublyLinkedList()\n",
    "lnkLst.insert(2)\n",
    "lnkLst.insert(3)\n",
    "lnkLst.insert(7)\n",
    "lnkLst.insert(5)\n",
    "\n",
    "lnkLst.show()"
   ]
  },
  {
   "cell_type": "code",
   "execution_count": 89,
   "metadata": {},
   "outputs": [
    {
     "name": "stdout",
     "output_type": "stream",
     "text": [
      "2 3 7 5 "
     ]
    }
   ],
   "source": [
    "lnkLst.show_reverse()"
   ]
  },
  {
   "cell_type": "code",
   "execution_count": 90,
   "metadata": {},
   "outputs": [
    {
     "name": "stdout",
     "output_type": "stream",
     "text": [
      "7 3 2 "
     ]
    }
   ],
   "source": [
    "lnkLst.delete(5)\n",
    "lnkLst.show()"
   ]
  },
  {
   "cell_type": "code",
   "execution_count": 91,
   "metadata": {},
   "outputs": [
    {
     "name": "stdout",
     "output_type": "stream",
     "text": [
      "2 3 7 "
     ]
    }
   ],
   "source": [
    "lnkLst.show_reverse()"
   ]
  },
  {
   "cell_type": "code",
   "execution_count": 92,
   "metadata": {},
   "outputs": [
    {
     "name": "stdout",
     "output_type": "stream",
     "text": [
      "7 2 "
     ]
    }
   ],
   "source": [
    "lnkLst.delete(3)\n",
    "lnkLst.show()"
   ]
  },
  {
   "cell_type": "code",
   "execution_count": 93,
   "metadata": {},
   "outputs": [
    {
     "name": "stdout",
     "output_type": "stream",
     "text": [
      "2 7 "
     ]
    }
   ],
   "source": [
    "lnkLst.show_reverse()"
   ]
  },
  {
   "cell_type": "code",
   "execution_count": 94,
   "metadata": {},
   "outputs": [
    {
     "name": "stdout",
     "output_type": "stream",
     "text": [
      "2 "
     ]
    }
   ],
   "source": [
    "lnkLst.delete(7)\n",
    "lnkLst.show()"
   ]
  },
  {
   "cell_type": "code",
   "execution_count": 95,
   "metadata": {},
   "outputs": [
    {
     "name": "stdout",
     "output_type": "stream",
     "text": [
      "2 "
     ]
    }
   ],
   "source": [
    "lnkLst.show_reverse()"
   ]
  },
  {
   "attachments": {},
   "cell_type": "markdown",
   "metadata": {},
   "source": [
    "# Palindrome Linked List\n",
    "\n",
    "Given the ```head``` of a singly linked list, return ```true``` if it is a  palindrome or ```false``` otherwise.\n",
    "\n",
    "***Expected Running Time: O(n)***\n"
   ]
  },
  {
   "cell_type": "code",
   "execution_count": 96,
   "metadata": {},
   "outputs": [],
   "source": [
    "class Node:\n",
    "    def __init__(self, data = None):\n",
    "      self.data = data\n",
    "      self.next_node = None\n",
    "\n",
    "class LinkedList:\n",
    "    def __init__(self, lst):\n",
    "      self.head = None\n",
    "\n",
    "      for data in lst:\n",
    "         self.insert(data)\n",
    "    \n",
    "    def insert(self, data):\n",
    "        if not self.head:\n",
    "            self.head = Node(data)\n",
    "        else:\n",
    "            new_head = Node(data)\n",
    "            new_head.next_node = self.head\n",
    "\n",
    "            self.head = new_head\n",
    "    \n",
    "    def show(self):\n",
    "       cur_node = self.head\n",
    "\n",
    "       while (cur_node):\n",
    "            print(cur_node.data, end = ' ')\n",
    "            cur_node = cur_node.next_node"
   ]
  },
  {
   "cell_type": "code",
   "execution_count": 97,
   "metadata": {},
   "outputs": [],
   "source": [
    "def palindrome_linked_list(lnklst): # type lnklst: LinkedList\n",
    "    slow = lnklst.head\n",
    "    fast = lnklst.head\n",
    "\n",
    "    lst = []\n",
    "    while (fast.next_node and fast.next_node.next_node):\n",
    "        lst.append(slow.data)\n",
    "        slow = slow.next_node\n",
    "        fast = fast.next_node.next_node\n",
    "\n",
    "    if (fast.next_node):\n",
    "        lst.append(slow.data)\n",
    "        slow = slow.next_node\n",
    "    else:\n",
    "        slow = slow.next_node\n",
    "\n",
    "    index = -1\n",
    "    while (slow):\n",
    "        if (lst[index] == slow.data):\n",
    "            slow = slow.next_node\n",
    "        else:\n",
    "            return False\n",
    "        \n",
    "        index -= 1\n",
    "        \n",
    "    return True    "
   ]
  },
  {
   "cell_type": "code",
   "execution_count": 98,
   "metadata": {},
   "outputs": [
    {
     "name": "stdout",
     "output_type": "stream",
     "text": [
      "6 5 4 3 2 1 "
     ]
    }
   ],
   "source": [
    "head = [1, 2, 3, 4, 5, 6]\n",
    "lnklst = LinkedList(head)\n",
    "lnklst.show()"
   ]
  },
  {
   "cell_type": "code",
   "execution_count": 99,
   "metadata": {},
   "outputs": [
    {
     "data": {
      "text/plain": [
       "False"
      ]
     },
     "execution_count": 99,
     "metadata": {},
     "output_type": "execute_result"
    }
   ],
   "source": [
    "palindrome_linked_list(lnklst) # False"
   ]
  },
  {
   "cell_type": "code",
   "execution_count": 100,
   "metadata": {},
   "outputs": [
    {
     "data": {
      "text/plain": [
       "True"
      ]
     },
     "execution_count": 100,
     "metadata": {},
     "output_type": "execute_result"
    }
   ],
   "source": [
    "head = [1,2,3,2,1]\n",
    "lnklst = LinkedList(head)\n",
    "palindrome_linked_list(lnklst) # True"
   ]
  },
  {
   "cell_type": "code",
   "execution_count": 101,
   "metadata": {},
   "outputs": [
    {
     "data": {
      "text/plain": [
       "False"
      ]
     },
     "execution_count": 101,
     "metadata": {},
     "output_type": "execute_result"
    }
   ],
   "source": [
    "head = [1,2,3,4,5]\n",
    "lnklst = LinkedList(head)\n",
    "palindrome_linked_list(lnklst) # False"
   ]
  },
  {
   "cell_type": "code",
   "execution_count": 102,
   "metadata": {},
   "outputs": [
    {
     "data": {
      "text/plain": [
       "False"
      ]
     },
     "execution_count": 102,
     "metadata": {},
     "output_type": "execute_result"
    }
   ],
   "source": [
    "head = [1,2]\n",
    "lnklst = LinkedList(head)\n",
    "palindrome_linked_list(lnklst) # False"
   ]
  },
  {
   "cell_type": "code",
   "execution_count": 106,
   "metadata": {},
   "outputs": [
    {
     "name": "stdout",
     "output_type": "stream",
     "text": [
      "total 14570\n",
      "remian 2275.9700000000016\n",
      "transport 9718.599999999999 hotel 1147 medical 144.73 clouth 448 food 571.6 other 264.1\n"
     ]
    }
   ],
   "source": [
    "total = 14000 + 570\n",
    "transport = 942 + 8597 + 145 + 5.26 + 9.38 + 10.46 + 9.5\n",
    "hotel = 1147\n",
    "medical = 7.33 + 28 + 61.4 + 48\n",
    "clouth = 448\n",
    "food = 267 + 127 + 36.8 + 46.8 + 5 + 11 + 5 + 34 + 39\n",
    "other  = 81.8 + 100 + 20 + 25 + 9 + 4 + 9.3 + 14 + 1\n",
    "\n",
    "print(\"total\", total)\n",
    "print('remian', total - transport - hotel - medical - clouth - food - other)\n",
    "print(\"transport\", transport, 'hotel', hotel, 'medical', medical, 'clouth', clouth, 'food', food, 'other', other)"
   ]
  }
 ],
 "metadata": {
  "kernelspec": {
   "display_name": "Python 3",
   "language": "python",
   "name": "python3"
  },
  "language_info": {
   "codemirror_mode": {
    "name": "ipython",
    "version": 3
   },
   "file_extension": ".py",
   "mimetype": "text/x-python",
   "name": "python",
   "nbconvert_exporter": "python",
   "pygments_lexer": "ipython3",
   "version": "3.10.6"
  },
  "orig_nbformat": 4
 },
 "nbformat": 4,
 "nbformat_minor": 2
}
