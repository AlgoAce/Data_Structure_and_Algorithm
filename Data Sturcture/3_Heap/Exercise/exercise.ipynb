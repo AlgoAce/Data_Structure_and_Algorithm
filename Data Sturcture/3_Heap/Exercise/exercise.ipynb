{
 "cells": [
  {
   "attachments": {},
   "cell_type": "markdown",
   "metadata": {},
   "source": [
    "# Tree like Heap\n",
    "\n",
    "Heaps can be implemented in a tree-like structure using Node objects. Here, each Node object maintains a reference to its left and right children and holds its value.\n",
    "\n",
    "Implement insert, getMax, deleteMax, and delete here"
   ]
  },
  {
   "cell_type": "code",
   "execution_count": null,
   "metadata": {},
   "outputs": [],
   "source": [
    "class Node:\n",
    "    def __init__(self, val):\n",
    "        self.val = val\n",
    "        self.left = None\n",
    "        self.right = None\n",
    "\n",
    "class MaxHeap:\n",
    "    def __init__(self):\n",
    "        self.root = None\n",
    "    "
   ]
  },
  {
   "attachments": {},
   "cell_type": "markdown",
   "metadata": {},
   "source": [
    "# Array Like Heap\n",
    "\n",
    "Heap can also be implemented in an array-like structure. The parent-child relationship can be calculated by their indices. If a node is represented by an index $i$, its left child is represented by $2*i + 1$ and its right child by $2*i + 2$. The parent of the node $i$ is given by $\\frac{(i-1)}{2}$.\n",
    "\n",
    "Implement insert, getMax, deleteMax, and delete here"
   ]
  },
  {
   "cell_type": "code",
   "execution_count": null,
   "metadata": {},
   "outputs": [],
   "source": [
    "class MaxHeap:\n",
    "    def __init__(self):\n",
    "        self.heap = []\n"
   ]
  },
  {
   "attachments": {},
   "cell_type": "markdown",
   "metadata": {},
   "source": [
    "# Heapify\n",
    "\n",
    "Given an array A, tranverse it to an array-like heap."
   ]
  },
  {
   "cell_type": "code",
   "execution_count": null,
   "metadata": {},
   "outputs": [],
   "source": [
    "def heapify(A):\n",
    "    pass"
   ]
  }
 ],
 "metadata": {
  "language_info": {
   "name": "python"
  },
  "orig_nbformat": 4
 },
 "nbformat": 4,
 "nbformat_minor": 2
}
