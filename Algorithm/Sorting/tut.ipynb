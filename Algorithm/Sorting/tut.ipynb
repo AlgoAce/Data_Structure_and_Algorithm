{
 "cells": [
  {
   "attachments": {},
   "cell_type": "markdown",
   "metadata": {},
   "source": [
    "# Heap\n",
    "<img src=\"./03.png\" width = 400/>\n",
    "\n",
    "A tree is heap-ordered if the key in each node is larger than or equal to the keys in all of that node's children (if any). Equivalently, the key in each node of a heap-ordered tree is smaller than or equal to the key in that node's parent (if any)"
   ]
  },
  {
   "cell_type": "markdown",
   "metadata": {},
   "source": [
    "\n",
    "A tree is heap-ordered if the key in each node is larger than or equal to the keys in all of that node's children (if any). Equivalently, the key in each node of a heap-ordered tree is smaller than or equal to the key in that node's parent (if any)"
   ]
  },
  {
   "attachments": {},
   "cell_type": "markdown",
   "metadata": {},
   "source": [
    "Let H be a heap (binary tree) of n items and let A be an array of size n. \n",
    "\n",
    "Store root in A[0] and continue with elements level-by-level from top to bottom, in each level left-to-right.\n",
    "\n",
    "It is easy to find parents and children using this array representation: \n",
    "\n",
    "- the left child of $A[i ]$ (if it exists) is $A[2i + 1]$,\n",
    "- the right child of $A[i ]$ (if it exists) is $A[2i + 2]$,\n"
   ]
  },
  {
   "attachments": {},
   "cell_type": "markdown",
   "metadata": {},
   "source": [
    "## Heap Insert"
   ]
  },
  {
   "cell_type": "code",
   "execution_count": 42,
   "metadata": {},
   "outputs": [
    {
     "name": "stdout",
     "output_type": "stream",
     "text": [
      "ding [100, 50, 40, 26, 40, 23, 10, 18]\n"
     ]
    }
   ],
   "source": [
    "def bubble_up_ding(heap, key):\n",
    "    heap.append(key)\n",
    "    lens = len(heap)\n",
    "    keyIdx = lens - 1 \n",
    "    if keyIdx % 2 == 1:         \n",
    "        parentIdx = (keyIdx - 1) // 2\n",
    "    else:\n",
    "        parentIdx = (keyIdx - 2) // 2\n",
    "\n",
    "    while keyIdx != 0 and heap[parentIdx] < key: \n",
    "        if keyIdx % 2 == 1:\n",
    "            parentIdx = (keyIdx - 1) // 2\n",
    "        else:\n",
    "            parentIdx = (keyIdx - 2) // 2   \n",
    "\n",
    "        heap[parentIdx], heap[keyIdx] = heap[keyIdx], heap[parentIdx]\n",
    "        keyIdx = parentIdx\n",
    "    \n",
    "    return heap\n",
    "\n",
    "heap = [100, 50, 40, 18, 40, 23, 10]\n",
    "\n",
    "print(\"ding\", bubble_up_ding(heap, 26))\n"
   ]
  },
  {
   "attachments": {},
   "cell_type": "markdown",
   "metadata": {},
   "source": [
    "Let H be a heap (binary tree) of n items and let A be an array of size n. \n",
    "\n",
    "Store root in A[0] and continue with elements level-by-level from top to bottom, in each level left-to-right.\n",
    "\n",
    "It is easy to find parents and children using this array representation: \n",
    "\n",
    "- the left child of $A[i ]$ (if it exists) is $A[2i + 1]$,\n",
    "- the right child of $A[i ]$ (if it exists) is $A[2i + 2]$,"
   ]
  },
  {
   "cell_type": "code",
   "execution_count": 22,
   "metadata": {},
   "outputs": [],
   "source": [
    "'''\n",
    "heap = [100, 50, 40, 18, 40, 23, 10]\n",
    "heap = [100, 50, 40, 18, 40, 23, 10, 26]  index(26) => 7 parent(26)'s index => 18\n",
    "'''\n",
    "\n",
    "def bubble_up_sting(heap, key)\n",
    "    :\n",
    "    heap.append(key)\n",
    "\n",
    "    index = len(heap)-1\n",
    "\n",
    "    parent_index = (index - 1)//2\n",
    "\n",
    "    while index > 0 and heap[index] > heap[parent_index]:\n",
    "\n",
    "        if heap[index] > heap[parent_index]:\n",
    "\n",
    "            heap[index],heap[parent_index] = heap[parent_index],heap[index]\n",
    "\n",
    "            index = parent_index\n",
    "\n",
    "            parent_index = (index - 1)//2\n",
    "\n",
    "    return heap\n",
    "    "
   ]
  },
  {
   "cell_type": "code",
   "execution_count": 28,
   "metadata": {},
   "outputs": [
    {
     "name": "stdout",
     "output_type": "stream",
     "text": [
      "sting [150, 100, 40, 50, 40, 23, 10, 2, 18]\n"
     ]
    }
   ],
   "source": [
    "# 2 * index + 1(2)\n",
    "heap = [100, 50, 40, 18, 40, 23, 10, 2]\n",
    "\n",
    "print(\"sting\", bubble_up_sting(heap, 150))"
   ]
  },
  {
   "attachments": {},
   "cell_type": "markdown",
   "metadata": {},
   "source": [
    "## Delete Max (Assignemnt Q1)\n",
    "\n"
   ]
  },
  {
   "cell_type": "code",
   "execution_count": 43,
   "metadata": {},
   "outputs": [
    {
     "data": {
      "text/plain": [
       "[2, 50, 40, 18, 40, 23, 10]"
      ]
     },
     "execution_count": 43,
     "metadata": {},
     "output_type": "execute_result"
    }
   ],
   "source": [
    "lst = [2, 50, 40, 18, 40, 23, 10, 2]\n",
    "lst.pop()\n",
    "lst"
   ]
  },
  {
   "cell_type": "code",
   "execution_count": null,
   "metadata": {},
   "outputs": [],
   "source": [
    "# [100, 50, 40, 18, 40, 23, 10, 2]\n",
    "# [2, 50, 40, 18, 40, 23, 10, 2]\n",
    "# [2, 50, 40, 18, 40, 23, 10] => pop()\n",
    "# [50, 2, 40, 18, 40, 23, 10] => bubble_down\n",
    "# ..."
   ]
  },
  {
   "cell_type": "code",
   "execution_count": 53,
   "metadata": {},
   "outputs": [
    {
     "name": "stdout",
     "output_type": "stream",
     "text": [
      "7\n"
     ]
    },
    {
     "ename": "IndexError",
     "evalue": "list index out of range",
     "output_type": "error",
     "traceback": [
      "\u001b[0;31m---------------------------------------------------------------------------\u001b[0m",
      "\u001b[0;31mIndexError\u001b[0m                                Traceback (most recent call last)",
      "\u001b[1;32m/Users/dongpochen/Github/Data_Structure_and_Algorithm/Algorithm/Sorting/tut.ipynb 单元格 12\u001b[0m in \u001b[0;36m<cell line: 30>\u001b[0;34m()\u001b[0m\n\u001b[1;32m     <a href='vscode-notebook-cell:/Users/dongpochen/Github/Data_Structure_and_Algorithm/Algorithm/Sorting/tut.ipynb#W5sZmlsZQ%3D%3D?line=25'>26</a>\u001b[0m     \u001b[39mreturn\u001b[39;00m bubble_down_ding(heap, \u001b[39m0\u001b[39m)\n\u001b[1;32m     <a href='vscode-notebook-cell:/Users/dongpochen/Github/Data_Structure_and_Algorithm/Algorithm/Sorting/tut.ipynb#W5sZmlsZQ%3D%3D?line=28'>29</a>\u001b[0m lst \u001b[39m=\u001b[39m [\u001b[39m100\u001b[39m, \u001b[39m50\u001b[39m, \u001b[39m40\u001b[39m, \u001b[39m18\u001b[39m, \u001b[39m40\u001b[39m, \u001b[39m23\u001b[39m, \u001b[39m10\u001b[39m, \u001b[39m2\u001b[39m]\n\u001b[0;32m---> <a href='vscode-notebook-cell:/Users/dongpochen/Github/Data_Structure_and_Algorithm/Algorithm/Sorting/tut.ipynb#W5sZmlsZQ%3D%3D?line=29'>30</a>\u001b[0m \u001b[39mprint\u001b[39m(delete_max_ding(lst))\n",
      "\u001b[1;32m/Users/dongpochen/Github/Data_Structure_and_Algorithm/Algorithm/Sorting/tut.ipynb 单元格 12\u001b[0m in \u001b[0;36mdelete_max_ding\u001b[0;34m(heap)\u001b[0m\n\u001b[1;32m     <a href='vscode-notebook-cell:/Users/dongpochen/Github/Data_Structure_and_Algorithm/Algorithm/Sorting/tut.ipynb#W5sZmlsZQ%3D%3D?line=23'>24</a>\u001b[0m heap[\u001b[39m0\u001b[39m] \u001b[39m=\u001b[39m heap[\u001b[39m-\u001b[39m\u001b[39m1\u001b[39m]\n\u001b[1;32m     <a href='vscode-notebook-cell:/Users/dongpochen/Github/Data_Structure_and_Algorithm/Algorithm/Sorting/tut.ipynb#W5sZmlsZQ%3D%3D?line=24'>25</a>\u001b[0m heap\u001b[39m.\u001b[39mpop()\n\u001b[0;32m---> <a href='vscode-notebook-cell:/Users/dongpochen/Github/Data_Structure_and_Algorithm/Algorithm/Sorting/tut.ipynb#W5sZmlsZQ%3D%3D?line=25'>26</a>\u001b[0m \u001b[39mreturn\u001b[39;00m bubble_down_ding(heap, \u001b[39m0\u001b[39;49m)\n",
      "\u001b[1;32m/Users/dongpochen/Github/Data_Structure_and_Algorithm/Algorithm/Sorting/tut.ipynb 单元格 12\u001b[0m in \u001b[0;36mbubble_down_ding\u001b[0;34m(heap, parentIdx)\u001b[0m\n\u001b[1;32m      <a href='vscode-notebook-cell:/Users/dongpochen/Github/Data_Structure_and_Algorithm/Algorithm/Sorting/tut.ipynb#W5sZmlsZQ%3D%3D?line=8'>9</a>\u001b[0m lChildIdx \u001b[39m=\u001b[39m parentIdx \u001b[39m*\u001b[39m \u001b[39m2\u001b[39m \u001b[39m+\u001b[39m \u001b[39m1\u001b[39m\n\u001b[1;32m     <a href='vscode-notebook-cell:/Users/dongpochen/Github/Data_Structure_and_Algorithm/Algorithm/Sorting/tut.ipynb#W5sZmlsZQ%3D%3D?line=9'>10</a>\u001b[0m rChildIdx \u001b[39m=\u001b[39m parentIdx \u001b[39m*\u001b[39m \u001b[39m2\u001b[39m \u001b[39m+\u001b[39m \u001b[39m2\u001b[39m\n\u001b[0;32m---> <a href='vscode-notebook-cell:/Users/dongpochen/Github/Data_Structure_and_Algorithm/Algorithm/Sorting/tut.ipynb#W5sZmlsZQ%3D%3D?line=10'>11</a>\u001b[0m maximum \u001b[39m=\u001b[39m \u001b[39mmax\u001b[39m(heap[lChildIdx], heap[rChildIdx])\n\u001b[1;32m     <a href='vscode-notebook-cell:/Users/dongpochen/Github/Data_Structure_and_Algorithm/Algorithm/Sorting/tut.ipynb#W5sZmlsZQ%3D%3D?line=12'>13</a>\u001b[0m \u001b[39mif\u001b[39;00m maximum \u001b[39m==\u001b[39m heap[lChildIdx]:\n\u001b[1;32m     <a href='vscode-notebook-cell:/Users/dongpochen/Github/Data_Structure_and_Algorithm/Algorithm/Sorting/tut.ipynb#W5sZmlsZQ%3D%3D?line=13'>14</a>\u001b[0m     heap[lChildIdx], heap[parentIdx] \u001b[39m=\u001b[39m heap[parentIdx], heap[lChildIdx]\n",
      "\u001b[0;31mIndexError\u001b[0m: list index out of range"
     ]
    }
   ],
   "source": [
    "# Delete the max item from a heap\n",
    "\n",
    "def bubble_down_ding(heap, parentIdx):\n",
    "    lChildIdx = parentIdx * 2 + 1\n",
    "    rChildIdx = parentIdx * 2 + 2\n",
    "    lens = len(heap)\n",
    "    while heap[lChildIdx] > heap[parentIdx] or (lens > rChildIdx and heap[rChildIdx] > heap[parentIdx]):\n",
    "        lChildIdx = parentIdx * 2 + 1\n",
    "        rChildIdx = parentIdx * 2 + 2\n",
    "        maximum = max(heap[lChildIdx], heap[rChildIdx])\n",
    "\n",
    "        if maximum == heap[lChildIdx]:\n",
    "            heap[lChildIdx], heap[parentIdx] = heap[parentIdx], heap[lChildIdx]\n",
    "            parentIdx = lChildIdx\n",
    "        elif lens != rChildIdx:\n",
    "                heap[rChildIdx], heap[parentIdx] = heap[parentIdx], heap[rChildIdx]\n",
    "                parentIdx = rChildIdx\n",
    "            \n",
    "    return heap\n",
    "    \n",
    "\n",
    "def delete_max_ding(heap):\n",
    "    heap[0] = heap[-1]\n",
    "    heap.pop()\n",
    "    return bubble_down_ding(heap, 0)\n",
    "\n",
    "\n",
    "lst = [100, 50, 40, 18, 40, 23, 10, 2]\n",
    "print(delete_max_ding(lst))\n"
   ]
  },
  {
   "cell_type": "code",
   "execution_count": null,
   "metadata": {},
   "outputs": [],
   "source": [
    "lst = [100, 50, 40, 18, 40, 23, 10, 2]\n"
   ]
  },
  {
   "cell_type": "code",
   "execution_count": null,
   "metadata": {},
   "outputs": [],
   "source": [
    "def bubble_down_sting(heap):\n",
    "    index =  heap[0]\n",
    "    lchild_index = index * 2 + 1\n",
    "    rchild_index = index * 2 + 2\n",
    "    while True:\n",
    "        if rchild_index >= len(heap):\n",
    "            break\n",
    "        if lchild_index >= len(heap):\n",
    "            max_child_index = lchild_index\n",
    "            break\n",
    "        elif heap[lchild_index] > heap[index] or heap[rchild_index] > heap[index]:\n",
    "            if lchild_index >= rchild_index:\n",
    "                heap[index], heap[lchild_index] = heap[lchild_index], heap[index]\n",
    "                index = lchild_index\n",
    "                lchild_index = index * 2 + 1\n",
    "            else:\n",
    "                heap[index], heap[rchild_index] = heap[rchild_index], heap[index]\n",
    "                index = rchild_index\n",
    "                rchild_index = index * 2 + 2\n",
    "        else:\n",
    "            \n",
    "    return heap\n",
    "            \n",
    "\n",
    "def delete_max_sting(heap):\n",
    "    heap[0] = heap[len(heap)-1]\n",
    "    heap.pop()\n",
    "    bubble_down_sting(lst)\n",
    "    return lst\n",
    "\n",
    "lst = [100, 50, 40, 18, 40, 23, 10, 2]\n",
    "print(delete_max_sting(heap))"
   ]
  },
  {
   "attachments": {},
   "cell_type": "markdown",
   "metadata": {},
   "source": [
    "## Heapify (Assignemnt Q2)"
   ]
  },
  {
   "cell_type": "code",
   "execution_count": null,
   "metadata": {},
   "outputs": [],
   "source": [
    "# [50, 100, 40, 18, 40, 23, 10, 2] => [100, 50, 40, 18, 40, 23, 10, 2]"
   ]
  },
  {
   "attachments": {},
   "cell_type": "markdown",
   "metadata": {},
   "source": [
    "## Heap Sort (Assignemnt Q3)"
   ]
  },
  {
   "cell_type": "code",
   "execution_count": null,
   "metadata": {},
   "outputs": [],
   "source": [
    "# [50, 100, 18, 18, 40, 23, 10, 2]  heapify() => [100, 50, 40, 18, 40, 23, 10, 2]\n",
    "'''\n",
    "def HeapSort (A):\n",
    "    heapify (A)\n",
    "    for i ← 0 to n - 1 do\n",
    "        A[n - 1 - i] ← heapDeleteMax(H)\n",
    "'''"
   ]
  },
  {
   "attachments": {},
   "cell_type": "markdown",
   "metadata": {},
   "source": [
    "# Sort\n",
    "\n",
    "\n",
    "***Example***:\n",
    "```\n",
    "arr1 = [1, 3, 7]\n",
    "\n",
    "arr2 = [2, 5, 6]\n",
    "\n",
    "merge_two_sorted_array(arr1, arr2) => [1, 2, 3, 5, 6, 7]\n",
    "\n",
    "```"
   ]
  },
  {
   "cell_type": "code",
   "execution_count": null,
   "metadata": {},
   "outputs": [],
   "source": [
    "'''\n",
    "p1 = 0\n",
    "p2 = 0\n",
    "\n",
    "rtn = []\n",
    "len_arr1 = len(arr1)\n",
    "len_arr2 = len(arr2)\n",
    "\n",
    "while(condtion): => condtion 1: len(rtn) <= len_arr1 +  len_arr2\n",
    "                 => condtion 2: p1 < len(arr1)\n",
    "                 => condtion 3: p2 < len(arr2)\n",
    "    if (arr[p1] > arr[p2]):\n",
    "        rtn.append(arr[p2])\n",
    "        p2 += 1\n",
    "    else:\n",
    "        ...\n",
    "\n",
    "if p1 != len(arr1) - 1:\n",
    "    rtn.extend(arr1[p1:])\n",
    "\n",
    "if p2 != len(arr1) - 1:\n",
    "    rtn.extend(arr2[p2:])\n",
    "\n",
    "return rtn\n",
    "'''"
   ]
  },
  {
   "cell_type": "code",
   "execution_count": null,
   "metadata": {},
   "outputs": [],
   "source": [
    "def merge_two_sorted_array_ding(arr1, arr2):\n",
    "    p1 = 0\n",
    "    p2 = 0\n",
    "    newArr = []\n",
    "    tLens = len(arr1) + len(arr2)\n",
    "    lArr1 = len(arr1)\n",
    "    while len(newArr) != tLens:\n",
    "        if p1 > arr1\n",
    "        c = max(arr1[p1], arr2[p2])\n",
    "        if c == arr1[p1]:\n",
    "            p1 += 1\n",
    "        else:\n",
    "            p2 += 1\n",
    "        \n",
    "    return newArr"
   ]
  },
  {
   "cell_type": "code",
   "execution_count": 54,
   "metadata": {},
   "outputs": [
    {
     "ename": "IndentationError",
     "evalue": "expected an indented block after 'else' statement on line 8 (1936357666.py, line 9)",
     "output_type": "error",
     "traceback": [
      "\u001b[0;36m  Input \u001b[0;32mIn [54]\u001b[0;36m\u001b[0m\n\u001b[0;31m    pass\u001b[0m\n\u001b[0m    ^\u001b[0m\n\u001b[0;31mIndentationError\u001b[0m\u001b[0;31m:\u001b[0m expected an indented block after 'else' statement on line 8\n"
     ]
    }
   ],
   "source": [
    "def merge_two_sorted_array_sting(arr1, arr2):\n",
    "    p1 = 0\n",
    "    p2 = 0\n",
    "    lst = []\n",
    "    tLens = len(arr1) + len(arr2)\n",
    "    while(len(lst) != tLens):\n",
    "        if arr1[p1] > arr2[p2]:\n",
    "            lst.append(arr1[p1])\n",
    "            p1 += 1\n",
    "        else:\n",
    "            lst.append(arr2[p2])\n",
    "            p2 += 1\n",
    "    return lst"
   ]
  },
  {
   "attachments": {},
   "cell_type": "markdown",
   "metadata": {},
   "source": [
    "## Merge Sort (Assignemnt Q4)\n",
    "\n",
    "```\n",
    "def merge(L1,L2,L):\n",
    "    pos1,pos2,posL = 0,0,0\n",
    "    while (pos1 < len(L1)) and (pos2 < len(L2)):\n",
    "        if L1[pos1] < L2[pos2]: \n",
    "            L[posL] = L1[pos1] \n",
    "            pos1 += 1\n",
    "        else:\n",
    "            L[posL] = L2[pos2] \n",
    "            pos2 += 1\n",
    "    posL += 1\n",
    "    while (pos1 < len(L1)):\n",
    "        L[posL] = L1[pos1]\n",
    "        pos1, posL = pos1+1, posL+1\n",
    "    while (pos2 < len(L2)):\n",
    "        L[posL] = L2[pos2]\n",
    "        pos2, posL = pos2+1, posL+1\n",
    "    \n",
    "def mergesort(L):\n",
    "    if len(L) < 2: return mid = len(L)//2\n",
    "    L1 = L[:mid]\n",
    "    L2 = L[mid:] \n",
    "    mergesort(L1) \n",
    "    mergesort(L2) \n",
    "    merge(L1,L2,L)\n",
    "```"
   ]
  },
  {
   "cell_type": "code",
   "execution_count": null,
   "metadata": {},
   "outputs": [],
   "source": []
  },
  {
   "attachments": {},
   "cell_type": "markdown",
   "metadata": {},
   "source": [
    "# CCC 2018 S1: Voronoi Villages\n",
    "### Problem Description\n",
    "\n",
    "In the country of Voronoi, there are N villages, located at distinct points on a straight road. Each\n",
    "of these villages will be represented by an integer position along this road.\n",
    "\n",
    "Each village defines its neighbourhood as all points along the road which are closer to it than\n",
    "to any other village. A point which is equally close to two distinct villages A and B is in the\n",
    "neighbourhood of A and also in the neighbourhood of B.\n",
    "\n",
    "Each neighbourhood has a size which is the difference between the minimum (leftmost) point in\n",
    "its neighbourhood and the maximum (rightmost) point in its neighbourhood.\n",
    "The neighbourhoods of the leftmost and rightmost villages are defined to be of infinite size, while\n",
    "all other neighbourhoods are finite in size.\n",
    "\n",
    "Determine the smallest size of any of the neighbourhoods (with exactly 1 digit after the decimal\n",
    "point).\n",
    "\n",
    "### Input Specification:\n",
    "\n",
    "There will be a list of villages, where the ith index contains the integer Vi\n",
    ", the position of\n",
    "the ith village (−1 000 000 000 ≤ Vi ≤ 1 000 000 000). All villages are at distinct positions.\n",
    "\n",
    "### Output Specification\n",
    "Output the smallest neighbourhood size with exactly one digit after the decimal point.\n",
    "\n",
    "### Sample Input\n",
    "16\n",
    "0\n",
    "10\n",
    "4\n",
    "15\n",
    "\n",
    "### Output for Sample Input\n",
    "3.0\n",
    "\n",
    "### Explanation for Output for Sample Input\n",
    "The neighbourhoods around 0 and 16 are infinite. The neighbourhood around 4 is 5 units (2 to\n",
    "the left, and 3 to the right). The neighbourhood around 10 is 5.5 units (3 to the left and 2.5 to the\n",
    "right). The neighbourhood around 15 is 3.0 units (2.5 to the left and 0.5 to the right).\n",
    "\n",
    "<img src=\"./q3.png\" />"
   ]
  },
  {
   "cell_type": "code",
   "execution_count": 72,
   "metadata": {},
   "outputs": [
    {
     "name": "stdout",
     "output_type": "stream",
     "text": [
      "3.0\n"
     ]
    }
   ],
   "source": [
    "# voronoiVillages([16, 0, 10, 4, 15]) => 3.0\n",
    "def voronoiVillages_ding(lst):\n",
    "    lst.sort()\n",
    "    lens = len(lst)\n",
    "    dist = []\n",
    "    \n",
    "    for i in range(lens):\n",
    "        if i == 0 or i == lens - 1:\n",
    "            continue\n",
    "        else:\n",
    "            dist.append(((lst[i] - lst[i - 1]) / 2) + ((lst[i + 1] - lst[i]) / 2))\n",
    "        \n",
    "    return min(dist)\n",
    "\n",
    "print(voronoiVillages_ding([16, 0, 10, 4, 15]))"
   ]
  },
  {
   "cell_type": "code",
   "execution_count": 86,
   "metadata": {},
   "outputs": [
    {
     "data": {
      "text/plain": [
       "3.0"
      ]
     },
     "execution_count": 86,
     "metadata": {},
     "output_type": "execute_result"
    }
   ],
   "source": [
    "# voronoiVillages([16, 0, 10, 4, 15]) => 3.0\n",
    "def voronoiVillages_sting(lst):\n",
    "    lst.sort()\n",
    "    return helper(lst)\n",
    "    \n",
    "def helper(villages):\n",
    "    currentSize = 0.0\n",
    "    lowestSize = 1000.0\n",
    "    size = len(villages)\n",
    "    for i in range(1, size - 1):\n",
    "        currentSize = ((villages[i] - villages[i-1])/2)+((villages[i+1]-villages[i])/2)\n",
    "        if currentSize < lowestSize:\n",
    "            lowestSize = currentSize\n",
    "    return lowestSize\n",
    "voronoiVillages_sting([16, 0, 10, 4, 15]) "
   ]
  },
  {
   "cell_type": "code",
   "execution_count": 1,
   "metadata": {},
   "outputs": [
    {
     "name": "stdout",
     "output_type": "stream",
     "text": [
      "[50, 40, 40, 18, 2, 23, 10]\n"
     ]
    }
   ],
   "source": [
    "def bubble_down_sting(heap, index):\n",
    "    lchild_index = index * 2 + 1\n",
    "    rchild_index = index * 2 + 2\n",
    "    while True:\n",
    "        if rchild_index >= len(heap):\n",
    "            break\n",
    "        if lchild_index >= len(heap):\n",
    "            max_child_index = lchild_index\n",
    "            heap[index], heap[max_child_index] = heap[max_child_index], heap[index]\n",
    "            break\n",
    "        elif heap[lchild_index] > heap[rchild_index]:\n",
    "            max_child_index = lchild_index\n",
    "        else:\n",
    "            max_child_index = rchild_index\n",
    "        if heap[max_child_index] > heap[index]:\n",
    "            heap[index], heap[max_child_index] = heap[max_child_index], heap[index]\n",
    "            index = max_child_index\n",
    "            lchild_index = index * 2 + 1\n",
    "            rchild_index = index * 2 + 2\n",
    "        else:\n",
    "            break\n",
    "    return heap\n",
    "\n",
    "\n",
    "def delete_max_sting(heap):\n",
    "    heap[0], heap[-1] = heap[-1], heap[0]\n",
    "    heap.pop()\n",
    "    bubble_down_sting(heap, 0)\n",
    "    return heap\n",
    "heap = [100, 50, 40, 18, 40, 23, 10, 2]\n",
    "print(delete_max_sting(heap))"
   ]
  },
  {
   "cell_type": "code",
   "execution_count": 8,
   "metadata": {},
   "outputs": [
    {
     "name": "stdout",
     "output_type": "stream",
     "text": [
      "lst after heapify:  [100, 50, 40, 18, 40, 23, 10, 2]\n"
     ]
    }
   ],
   "source": [
    "heap = [50, 100, 40, 18, 40, 23, 10, 2]\n",
    "def bubble_up_sting(heap, index):\n",
    "    parent_index = (index - 1) // 2\n",
    "    while index > 0 and heap[index] > heap[parent_index]:\n",
    "        heap[index], heap[parent_index] = heap[parent_index], heap[index]\n",
    "        index = parent_index\n",
    "        parent_index = (index - 1) // 2\n",
    "    return heap\n",
    "def heapify(heap):\n",
    "    n = len(heap)\n",
    "    for i in range(n):\n",
    "        bubble_up_sting(heap, n - i - 1)\n",
    "    return heap\n",
    "\n",
    "\n",
    "print(\"lst after heapify: \", heapify(heap))"
   ]
  },
  {
   "cell_type": "code",
   "execution_count": 12,
   "metadata": {},
   "outputs": [
    {
     "name": "stdout",
     "output_type": "stream",
     "text": [
      "lst after heapify:  [100, 50, 23, 18, 40, 18, 10, 2]\n",
      "[100]\n",
      "heap: [50, 40, 23, 18, 2, 18, 10]\n",
      "[100, 50]\n",
      "heap: [40, 18, 23, 10, 2, 18]\n",
      "[100, 50, 40]\n",
      "heap: [23, 18, 18, 10, 2]\n",
      "[100, 50, 40, 23]\n",
      "heap: [18, 18, 2, 10]\n",
      "[100, 50, 40, 23, 18]\n",
      "heap: [18, 10, 2]\n",
      "[100, 50, 40, 23, 18, 18]\n",
      "heap: [2, 10]\n",
      "[100, 50, 40, 23, 18, 18, 2]\n",
      "heap: [10]\n",
      "[100, 50, 40, 23, 18, 18, 2, 10]\n",
      "heap: []\n",
      "[100, 50, 40, 23, 18, 18, 2, 10]\n"
     ]
    }
   ],
   "source": [
    "lst = [50, 100, 18, 18, 40, 23, 10, 2]\n",
    "heapify(lst)\n",
    "print(\"lst after heapify: \", lst)\n",
    "def heap_sort(heap):\n",
    "    size = len(heap)\n",
    "    out = []\n",
    "    while size != 0:\n",
    "        out.append(lst[0])\n",
    "        delete_max_sting(heap)\n",
    "        size -= 1\n",
    "        print(out)\n",
    "        print(\"heap:\", lst)\n",
    "    return out\n",
    "print(heap_sort(lst))"
   ]
  }
 ],
 "metadata": {
  "kernelspec": {
   "display_name": "Python 3",
   "language": "python",
   "name": "python3"
  },
  "language_info": {
   "codemirror_mode": {
    "name": "ipython",
    "version": 3
   },
   "file_extension": ".py",
   "mimetype": "text/x-python",
   "name": "python",
   "nbconvert_exporter": "python",
   "pygments_lexer": "ipython3",
   "version": "3.10.6"
  },
  "orig_nbformat": 4,
  "vscode": {
   "interpreter": {
    "hash": "aee8b7b246df8f9039afb4144a1f6fd8d2ca17a180786b69acc140d282b71a49"
   }
  }
 },
 "nbformat": 4,
 "nbformat_minor": 2
}
