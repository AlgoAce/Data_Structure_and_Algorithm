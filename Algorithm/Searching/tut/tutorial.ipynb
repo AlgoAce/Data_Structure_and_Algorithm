{
 "cells": [
  {
   "attachments": {},
   "cell_type": "markdown",
   "metadata": {},
   "source": [
    "# Minimum Score of a Path Between Two Cities\n",
    "\n",
    "https://leetcode.com/problems/minimum-score-of-a-path-between-two-cities/description/"
   ]
  },
  {
   "cell_type": "code",
   "execution_count": 3,
   "metadata": {},
   "outputs": [],
   "source": [
    "import math\n",
    "from collections import defaultdict\n",
    "\n",
    "def minScore(n, roads):\n",
    "    m = defaultdict(list)\n",
    "        \n",
    "    for a,b,dist in roads:\n",
    "            m[a].append([b, dist])\n",
    "            m[b].append([a, dist])\n",
    "            \n",
    "    res = [math.inf]\n",
    "        \n",
    "    visit = set()\n",
    "        \n",
    "    def dfs(node):\n",
    "            \n",
    "        visit.add(node)\n",
    "            \n",
    "        for nei, cost in m[node]:\n",
    "            res[0] = min(res[0], cost)\n",
    "                \n",
    "            if nei in visit:\n",
    "                continue\n",
    "            dfs(nei)\n",
    "                \n",
    "    dfs(1)\n",
    "        \n",
    "    return res[0]\n"
   ]
  },
  {
   "cell_type": "code",
   "execution_count": 4,
   "metadata": {},
   "outputs": [
    {
     "data": {
      "text/plain": [
       "2"
      ]
     },
     "execution_count": 4,
     "metadata": {},
     "output_type": "execute_result"
    }
   ],
   "source": [
    "minScore(4, [[1,2,2],[1,3,4],[3,4,7]])"
   ]
  },
  {
   "cell_type": "code",
   "execution_count": 5,
   "metadata": {},
   "outputs": [
    {
     "data": {
      "text/plain": [
       "2"
      ]
     },
     "execution_count": 5,
     "metadata": {},
     "output_type": "execute_result"
    }
   ],
   "source": [
    "minScore(2, [[1,2,2],[1,3,4],[3,4,7]])"
   ]
  },
  {
   "cell_type": "markdown",
   "metadata": {},
   "source": [
    "## Q2. Number of Islands\n",
    "\n",
    "Given an m x n 2D binary grid grid which represents a map of '1's (land) and '0's (water), return the number of islands.\n",
    "\n",
    "An island is surrounded by water and is formed by connecting adjacent lands horizontally or vertically. You may assume all four edges of the grid are all surrounded by water.\n",
    "\n",
    "Example 1:\n",
    "```\n",
    "Input: grid = [\n",
    "  [\"1\",\"1\",\"1\",\"1\",\"0\"],\n",
    "  [\"1\",\"1\",\"0\",\"1\",\"0\"],\n",
    "  [\"1\",\"1\",\"0\",\"0\",\"0\"],\n",
    "  [\"0\",\"0\",\"0\",\"0\",\"0\"]\n",
    "]\n",
    "Output: 1\n",
    "```\n",
    "\n",
    "Example 2:\n",
    "\n",
    "```\n",
    "Input: grid = [\n",
    "  [\"1\",\"1\",\"0\",\"0\",\"0\"],\n",
    "  [\"1\",\"1\",\"0\",\"0\",\"0\"],\n",
    "  [\"0\",\"0\",\"1\",\"0\",\"0\"],\n",
    "  [\"0\",\"0\",\"0\",\"1\",\"1\"]\n",
    "]\n",
    "Output: 3\n",
    "```\n",
    "\n",
    "Constraints:\n",
    "\n",
    "m == grid.length <br />\n",
    "n == grid[i].length <br />\n",
    "1 <= m, n <= 300 <br />\n",
    "grid[i][j] is '0' or '1'."
   ]
  },
  {
   "cell_type": "code",
   "execution_count": null,
   "metadata": {},
   "outputs": [],
   "source": [
    "class Solution:\n",
    "    def nextIsland(self, row, col, grid):\n",
    "        if(grid[row][col] == \"0\"):\n",
    "            return\n",
    "        height = len(grid)\n",
    "        width = len(grid[0])\n",
    "        grid[row][col] = \"0\"\n",
    "        if row - 1 >= 0:\n",
    "            self.nextIsland(row-1, col, grid)\n",
    "        if col - 1 >= 0:\n",
    "            self.nextIsland(row, col-1, grid)\n",
    "        if row + 1 < height:\n",
    "            self.nextIsland(row + 1, col, grid)\n",
    "        if col + 1 < width:\n",
    "            self.nextIsland(row, col + 1, grid)\n",
    "\n",
    "\n",
    "\n",
    "    def numIslands(self, grid: List[List[str]]) -> int:\n",
    "        islands = 0\n",
    "        for row in range(len(grid)):\n",
    "            for col in range(len(grid[0])):\n",
    "                if grid[row][col] == \"1\":\n",
    "                    self.nextIsland(row, col, grid)\n",
    "                    islands += 1\n",
    "\n",
    "        return islands\n",
    "    "
   ]
  },
  {
   "attachments": {},
   "cell_type": "markdown",
   "metadata": {},
   "source": [
    "# Try DFS on this grid search problem\n",
    "- Expand the succerrors in the order: up, left, right and down\n",
    "- Number the nodes as they are removed from the frontier\n",
    "- Use cycle pruning\n",
    "\n",
    "<img src=\"07.png\" />"
   ]
  },
  {
   "cell_type": "code",
   "execution_count": 1,
   "metadata": {},
   "outputs": [],
   "source": [
    "import vis"
   ]
  },
  {
   "cell_type": "code",
   "execution_count": 2,
   "metadata": {},
   "outputs": [],
   "source": [
    "grid = vis.generate_grid()\n",
    "START_STATE = (5, 3)\n",
    "GOAL_STATE = (2, 2)"
   ]
  },
  {
   "cell_type": "code",
   "execution_count": 3,
   "metadata": {},
   "outputs": [
    {
     "data": {
      "text/plain": [
       "[[' ', ' ', ' ', ' ', ' ', ' ', ' ', ' '],\n",
       " [' ', ' ', ' ', ' ', ' ', ' ', ' ', ' '],\n",
       " [' ', ' ', 'G', ' ', ' ', ' ', ' ', ' '],\n",
       " [' ', ' ', '*', '*', '*', '*', '*', ' '],\n",
       " [' ', '*', ' ', ' ', ' ', ' ', ' ', ' '],\n",
       " [' ', ' ', '*', 'S', ' ', ' ', '*', ' '],\n",
       " [' ', ' ', ' ', ' ', ' ', ' ', ' ', ' '],\n",
       " [' ', ' ', ' ', ' ', ' ', ' ', ' ', ' ']]"
      ]
     },
     "execution_count": 3,
     "metadata": {},
     "output_type": "execute_result"
    }
   ],
   "source": [
    "grid\n"
   ]
  },
  {
   "cell_type": "code",
   "execution_count": 4,
   "metadata": {},
   "outputs": [],
   "source": [
    "def get_cell(state, grid):\n",
    "    r, c = state\n",
    "    return grid[r][c]\n",
    "    \n",
    "def successor_function(state, grid):\n",
    "    # We expand the neighbour follow the order [up, left, right, down]\n",
    "    # Hence we push stack with order [down, right, left, up]\n",
    "    r, c = state\n",
    "    neighbour = []\n",
    "    \n",
    "    if (r + 1 < 8):\n",
    "        down = (r + 1, c)\n",
    "        if get_cell(down, grid) != '*': neighbour.append(down)\n",
    "    if (c + 1 < 8):\n",
    "        right = (r, c + 1)\n",
    "        if get_cell(right, grid) != '*': neighbour.append(right)\n",
    "    if (c - 1 >= 0):\n",
    "        left = (r, c - 1)\n",
    "        if get_cell(left, grid) != '*': neighbour.append(left)\n",
    "    if (r - 1 >= 0):\n",
    "        up = (r - 1, c)\n",
    "        if get_cell(up, grid) != '*': neighbour.append(up)\n",
    "    return neighbour\n",
    "\n",
    "def DFS(s, g, gird):\n",
    "    froniter = [s]\n",
    "    visited = []\n",
    "    while froniter != []:\n",
    "        state = froniter.pop()\n",
    "        if state == g:\n",
    "            print(len(visited))\n",
    "            return visited\n",
    "        elif (state not in visited):\n",
    "            neighbours = successor_function(state, gird)\n",
    "            froniter.extend(neighbours)\n",
    "        if (state not in visited):\n",
    "            visited.append(state)\n",
    "\n",
    "    print(\"no solution\")\n",
    "    print(visited)"
   ]
  },
  {
   "cell_type": "code",
   "execution_count": 5,
   "metadata": {},
   "outputs": [
    {
     "name": "stdout",
     "output_type": "stream",
     "text": [
      "29\n"
     ]
    }
   ],
   "source": [
    "path = DFS(START_STATE, GOAL_STATE, grid)"
   ]
  },
  {
   "cell_type": "code",
   "execution_count": 6,
   "metadata": {},
   "outputs": [],
   "source": [
    "vis.draw_grid()"
   ]
  },
  {
   "cell_type": "code",
   "execution_count": 7,
   "metadata": {},
   "outputs": [],
   "source": [
    "vis.draw_path(path)"
   ]
  },
  {
   "attachments": {},
   "cell_type": "markdown",
   "metadata": {},
   "source": [
    "# Try BFS on this grid search problem\n",
    "- Expand the succerrors in the order: down, left, up, right\n",
    "- Number the nodes as they are removed from the frontier\n",
    "- Use cycle pruning"
   ]
  },
  {
   "cell_type": "code",
   "execution_count": 15,
   "metadata": {},
   "outputs": [],
   "source": [
    "import queue\n",
    "\n",
    "def successor_function_BFS(state, grid):\n",
    "    # We expand [down, left, up, right]\n",
    "    r, c = state\n",
    "    neighbour = []\n",
    "    \n",
    "    if (r + 1 < 8):\n",
    "        down = (r + 1, c)\n",
    "        if get_cell(down, grid) != '*': neighbour.append(down)\n",
    "    if (c - 1 >= 0):\n",
    "        left = (r, c - 1)\n",
    "        if get_cell(left, grid) != '*': neighbour.append(left)\n",
    "    if (r - 1 >= 0):\n",
    "        up = (r - 1, c)\n",
    "        if get_cell(up, grid) != '*': neighbour.append(up)\n",
    "    if (c + 1 < 8):\n",
    "        right = (r, c + 1)\n",
    "        if get_cell(right, grid) != '*': neighbour.append(right)\n",
    "    return neighbour\n",
    "\n",
    "def BFS(s, g, gird):\n",
    "    froniter = queue.Queue()\n",
    "    froniter.put([s])\n",
    "    visited = []\n",
    "    while froniter.empty() == False:\n",
    "        path = froniter.get()\n",
    "        state = path[-1]\n",
    "        if state == g:\n",
    "            print(len(visited))\n",
    "            return path, visited\n",
    "        elif (state not in visited):\n",
    "            neighbours = successor_function(state, gird)\n",
    "            for neighbour in neighbours:\n",
    "                new_path = path + [neighbour]\n",
    "                froniter.put(new_path)\n",
    "\n",
    "        if (state not in visited):\n",
    "            visited.append(state)\n",
    "\n",
    "    print(\"no solution\")"
   ]
  },
  {
   "cell_type": "code",
   "execution_count": 16,
   "metadata": {},
   "outputs": [
    {
     "name": "stdout",
     "output_type": "stream",
     "text": [
      "41\n"
     ]
    }
   ],
   "source": [
    "bfs_path, visited = BFS(START_STATE, GOAL_STATE, grid)"
   ]
  },
  {
   "cell_type": "code",
   "execution_count": 17,
   "metadata": {},
   "outputs": [],
   "source": [
    "vis.draw_grid()"
   ]
  },
  {
   "cell_type": "code",
   "execution_count": 19,
   "metadata": {},
   "outputs": [],
   "source": [
    "vis.draw_visited(visited)"
   ]
  },
  {
   "cell_type": "code",
   "execution_count": 18,
   "metadata": {},
   "outputs": [],
   "source": [
    "vis.draw_grid()"
   ]
  },
  {
   "cell_type": "code",
   "execution_count": 13,
   "metadata": {},
   "outputs": [],
   "source": [
    "vis.draw_path(bfs_path)"
   ]
  },
  {
   "attachments": {},
   "cell_type": "markdown",
   "metadata": {},
   "source": [
    "# Try A* on grid search problem\n",
    "\n",
    "Use Manhattan distance as our heuristic function."
   ]
  },
  {
   "cell_type": "code",
   "execution_count": 14,
   "metadata": {},
   "outputs": [
    {
     "name": "stdout",
     "output_type": "stream",
     "text": [
      "(1, 'Riya')\n",
      "(2, 'Harry')\n",
      "(3, 'Charles')\n",
      "(4, 'Stacy')\n"
     ]
    }
   ],
   "source": [
    "from queue import PriorityQueue\n",
    "pqueue = PriorityQueue() \n",
    "pqueue.put((2, \"Harry\"))\n",
    "pqueue.put((3, \"Charles\"))\n",
    "pqueue.put((1, \"Riya\"))\n",
    "pqueue.put((4, \"Stacy\"))\n",
    "\n",
    "print(pqueue.get())\n",
    "print(pqueue.get())\n",
    "print(pqueue.get())\n",
    "print(pqueue.get())"
   ]
  }
 ],
 "metadata": {
  "kernelspec": {
   "display_name": "Python 3.11.1 64-bit",
   "language": "python",
   "name": "python3"
  },
  "language_info": {
   "codemirror_mode": {
    "name": "ipython",
    "version": 3
   },
   "file_extension": ".py",
   "mimetype": "text/x-python",
   "name": "python",
   "nbconvert_exporter": "python",
   "pygments_lexer": "ipython3",
   "version": "3.10.6"
  },
  "orig_nbformat": 4,
  "vscode": {
   "interpreter": {
    "hash": "aee8b7b246df8f9039afb4144a1f6fd8d2ca17a180786b69acc140d282b71a49"
   }
  }
 },
 "nbformat": 4,
 "nbformat_minor": 2
}
