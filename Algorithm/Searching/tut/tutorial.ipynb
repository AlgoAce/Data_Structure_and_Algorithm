{
 "cells": [
  {
   "cell_type": "markdown",
   "metadata": {},
   "source": [
    "## Q1. Range Sum of BST （DFS）\n",
    "\n",
    "Given the root node of a binary search tree and two integers low and high, return the sum of values of all nodes with a value in the inclusive range [low, high].\n",
    "\n",
    "Example 1:\n",
    "\n",
    "<img src=\"q1-1.jpeg\" />\n",
    "\n",
    "```\n",
    "Input: root = [10,5,15,3,7,null,18], low = 7, high = 15\n",
    "Output: 32\n",
    "Explanation: Nodes 7, 10, and 15 are in the range [7, 15]. 7 + 10 + 15 = 32.\n",
    "```\n",
    "\n",
    "Example 2:\n",
    "\n",
    "<img src=\"q1-2.jpeg\" />\n",
    "\n",
    "```\n",
    "Input: root = [10,5,15,3,7,13,18,1,null,6], low = 6, high = 10\n",
    "Output: 23\n",
    "Explanation: Nodes 6, 7, and 10 are in the range [6, 10]. 6 + 7 + 10 = 23.\n",
    "```\n",
    "\n",
    "Constraints:\n",
    "\n",
    "The number of nodes in the tree is in the range [1, 2 * 104]. <br />\n",
    "1 <= Node.val <= 105 <br />\n",
    "1 <= low <= high <= 105 <br />\n",
    "All Node.val are unique.\n",
    "\n",
    "\n",
    "\n",
    "\n",
    "\n"
   ]
  },
  {
   "cell_type": "code",
   "execution_count": 77,
   "metadata": {},
   "outputs": [
    {
     "ename": "NameError",
     "evalue": "name 'Optional' is not defined",
     "output_type": "error",
     "traceback": [
      "\u001b[0;31m---------------------------------------------------------------------------\u001b[0m",
      "\u001b[0;31mNameError\u001b[0m                                 Traceback (most recent call last)",
      "\u001b[1;32m/Users/dongpochen/Github/Data_Structure_and_Algorithm/Algorithm/Searching/tut/tutorial.ipynb Cell 2\u001b[0m in \u001b[0;36m<cell line: 7>\u001b[0;34m()\u001b[0m\n\u001b[1;32m      <a href='vscode-notebook-cell:/Users/dongpochen/Github/Data_Structure_and_Algorithm/Algorithm/Searching/tut/tutorial.ipynb#W1sZmlsZQ%3D%3D?line=0'>1</a>\u001b[0m \u001b[39m# Definition for a binary tree node.\u001b[39;00m\n\u001b[1;32m      <a href='vscode-notebook-cell:/Users/dongpochen/Github/Data_Structure_and_Algorithm/Algorithm/Searching/tut/tutorial.ipynb#W1sZmlsZQ%3D%3D?line=1'>2</a>\u001b[0m \u001b[39m# class TreeNode:\u001b[39;00m\n\u001b[1;32m      <a href='vscode-notebook-cell:/Users/dongpochen/Github/Data_Structure_and_Algorithm/Algorithm/Searching/tut/tutorial.ipynb#W1sZmlsZQ%3D%3D?line=2'>3</a>\u001b[0m \u001b[39m#     def __init__(self, val=0, left=None, right=None):\u001b[39;00m\n\u001b[1;32m      <a href='vscode-notebook-cell:/Users/dongpochen/Github/Data_Structure_and_Algorithm/Algorithm/Searching/tut/tutorial.ipynb#W1sZmlsZQ%3D%3D?line=3'>4</a>\u001b[0m \u001b[39m#         self.val = val\u001b[39;00m\n\u001b[1;32m      <a href='vscode-notebook-cell:/Users/dongpochen/Github/Data_Structure_and_Algorithm/Algorithm/Searching/tut/tutorial.ipynb#W1sZmlsZQ%3D%3D?line=4'>5</a>\u001b[0m \u001b[39m#         self.left = left\u001b[39;00m\n\u001b[1;32m      <a href='vscode-notebook-cell:/Users/dongpochen/Github/Data_Structure_and_Algorithm/Algorithm/Searching/tut/tutorial.ipynb#W1sZmlsZQ%3D%3D?line=5'>6</a>\u001b[0m \u001b[39m#         self.right = right\u001b[39;00m\n\u001b[0;32m----> <a href='vscode-notebook-cell:/Users/dongpochen/Github/Data_Structure_and_Algorithm/Algorithm/Searching/tut/tutorial.ipynb#W1sZmlsZQ%3D%3D?line=6'>7</a>\u001b[0m \u001b[39mclass\u001b[39;00m \u001b[39mSolution\u001b[39;00m:\n\u001b[1;32m      <a href='vscode-notebook-cell:/Users/dongpochen/Github/Data_Structure_and_Algorithm/Algorithm/Searching/tut/tutorial.ipynb#W1sZmlsZQ%3D%3D?line=7'>8</a>\u001b[0m     \u001b[39mdef\u001b[39;00m \u001b[39minRange\u001b[39m(\u001b[39mself\u001b[39m, target, low, high):\n\u001b[1;32m      <a href='vscode-notebook-cell:/Users/dongpochen/Github/Data_Structure_and_Algorithm/Algorithm/Searching/tut/tutorial.ipynb#W1sZmlsZQ%3D%3D?line=8'>9</a>\u001b[0m         \u001b[39mreturn\u001b[39;00m target \u001b[39m<\u001b[39m\u001b[39m=\u001b[39m high \u001b[39mand\u001b[39;00m target \u001b[39m>\u001b[39m\u001b[39m=\u001b[39m low\n",
      "\u001b[1;32m/Users/dongpochen/Github/Data_Structure_and_Algorithm/Algorithm/Searching/tut/tutorial.ipynb Cell 2\u001b[0m in \u001b[0;36mSolution\u001b[0;34m()\u001b[0m\n\u001b[1;32m      <a href='vscode-notebook-cell:/Users/dongpochen/Github/Data_Structure_and_Algorithm/Algorithm/Searching/tut/tutorial.ipynb#W1sZmlsZQ%3D%3D?line=7'>8</a>\u001b[0m \u001b[39mdef\u001b[39;00m \u001b[39minRange\u001b[39m(\u001b[39mself\u001b[39m, target, low, high):\n\u001b[1;32m      <a href='vscode-notebook-cell:/Users/dongpochen/Github/Data_Structure_and_Algorithm/Algorithm/Searching/tut/tutorial.ipynb#W1sZmlsZQ%3D%3D?line=8'>9</a>\u001b[0m     \u001b[39mreturn\u001b[39;00m target \u001b[39m<\u001b[39m\u001b[39m=\u001b[39m high \u001b[39mand\u001b[39;00m target \u001b[39m>\u001b[39m\u001b[39m=\u001b[39m low\n\u001b[0;32m---> <a href='vscode-notebook-cell:/Users/dongpochen/Github/Data_Structure_and_Algorithm/Algorithm/Searching/tut/tutorial.ipynb#W1sZmlsZQ%3D%3D?line=10'>11</a>\u001b[0m \u001b[39mdef\u001b[39;00m \u001b[39mrangeSumBST\u001b[39m(\u001b[39mself\u001b[39m, root: Optional[TreeNode], low: \u001b[39mint\u001b[39m, high: \u001b[39mint\u001b[39m) \u001b[39m-\u001b[39m\u001b[39m>\u001b[39m \u001b[39mint\u001b[39m:\n\u001b[1;32m     <a href='vscode-notebook-cell:/Users/dongpochen/Github/Data_Structure_and_Algorithm/Algorithm/Searching/tut/tutorial.ipynb#W1sZmlsZQ%3D%3D?line=11'>12</a>\u001b[0m     \u001b[39mif\u001b[39;00m root \u001b[39m==\u001b[39m \u001b[39mNone\u001b[39;00m:\n\u001b[1;32m     <a href='vscode-notebook-cell:/Users/dongpochen/Github/Data_Structure_and_Algorithm/Algorithm/Searching/tut/tutorial.ipynb#W1sZmlsZQ%3D%3D?line=12'>13</a>\u001b[0m         \u001b[39mreturn\u001b[39;00m \u001b[39m0\u001b[39m\n",
      "\u001b[0;31mNameError\u001b[0m: name 'Optional' is not defined"
     ]
    }
   ],
   "source": [
    "# Definition for a binary tree node.\n",
    "# class TreeNode:\n",
    "#     def __init__(self, val=0, left=None, right=None):\n",
    "#         self.val = val\n",
    "#         self.left = left\n",
    "#         self.right = right\n",
    "class Solution:\n",
    "    def inRange(self, target, low, high):\n",
    "        return target <= high and target >= low\n",
    "\n",
    "    def rangeSumBST(self, root: Optional[TreeNode], low: int, high: int) -> int:\n",
    "        if root == None:\n",
    "            return 0\n",
    "        elif self.inRange(root.val, low, high):\n",
    "            return root.val + self.rangeSumBST(root.left, low, high) + self.rangeSumBST(root.right, low, high)\n",
    "        elif root.val < low:\n",
    "            return self.rangeSumBST(root.right, low, high)\n",
    "        \n",
    "        return self.rangeSumBST(root.left, low, high)"
   ]
  },
  {
   "cell_type": "markdown",
   "metadata": {},
   "source": [
    "## Q2. Number of Islands\n",
    "\n",
    "Given an m x n 2D binary grid grid which represents a map of '1's (land) and '0's (water), return the number of islands.\n",
    "\n",
    "An island is surrounded by water and is formed by connecting adjacent lands horizontally or vertically. You may assume all four edges of the grid are all surrounded by water.\n",
    "\n",
    "Example 1:\n",
    "```\n",
    "Input: grid = [\n",
    "  [\"1\",\"1\",\"1\",\"1\",\"0\"],\n",
    "  [\"1\",\"1\",\"0\",\"1\",\"0\"],\n",
    "  [\"1\",\"1\",\"0\",\"0\",\"0\"],\n",
    "  [\"0\",\"0\",\"0\",\"0\",\"0\"]\n",
    "]\n",
    "Output: 1\n",
    "```\n",
    "\n",
    "Example 2:\n",
    "\n",
    "```\n",
    "Input: grid = [\n",
    "  [\"1\",\"1\",\"0\",\"0\",\"0\"],\n",
    "  [\"1\",\"1\",\"0\",\"0\",\"0\"],\n",
    "  [\"0\",\"0\",\"1\",\"0\",\"0\"],\n",
    "  [\"0\",\"0\",\"0\",\"1\",\"1\"]\n",
    "]\n",
    "Output: 3\n",
    "```\n",
    "\n",
    "Constraints:\n",
    "\n",
    "m == grid.length <br />\n",
    "n == grid[i].length <br />\n",
    "1 <= m, n <= 300 <br />\n",
    "grid[i][j] is '0' or '1'."
   ]
  },
  {
   "cell_type": "code",
   "execution_count": null,
   "metadata": {},
   "outputs": [],
   "source": [
    "class Solution:\n",
    "    def nextIsland(self, row, col, grid):\n",
    "        if(grid[row][col] == \"0\"):\n",
    "            return\n",
    "        height = len(grid)\n",
    "        width = len(grid[0])\n",
    "        grid[row][col] = \"0\"\n",
    "        if row - 1 >= 0:\n",
    "            self.nextIsland(row-1, col, grid)\n",
    "        if col - 1 >= 0:\n",
    "            self.nextIsland(row, col-1, grid)\n",
    "        if row + 1 < height:\n",
    "            self.nextIsland(row + 1, col, grid)\n",
    "        if col + 1 < width:\n",
    "            self.nextIsland(row, col + 1, grid)\n",
    "\n",
    "\n",
    "\n",
    "\n",
    "    def numIslands(self, grid: List[List[str]]) -> int:\n",
    "        islands = 0\n",
    "        for row in range(len(grid)):\n",
    "            for col in range(len(grid[0])):\n",
    "                if grid[row][col] == \"1\":\n",
    "                    self.nextIsland(row, col, grid)\n",
    "                    islands += 1\n",
    "\n",
    "        return islands\n",
    "    "
   ]
  },
  {
   "attachments": {},
   "cell_type": "markdown",
   "metadata": {},
   "source": [
    "# Try DFS on this grid search problem\n",
    "- Expand the succerrors in the order: up, left, right and down\n",
    "- Number the nodes as they are removed from the frontier\n",
    "- Use cycle pruning\n",
    "\n",
    "<img src=\"07.png\" />"
   ]
  },
  {
   "cell_type": "code",
   "execution_count": 1,
   "metadata": {},
   "outputs": [],
   "source": [
    "import vis"
   ]
  },
  {
   "cell_type": "code",
   "execution_count": 2,
   "metadata": {},
   "outputs": [],
   "source": [
    "grid = vis.generate_grid()\n",
    "START_STATE = (5, 3)\n",
    "GOAL_STATE = (2, 2)"
   ]
  },
  {
   "cell_type": "code",
   "execution_count": 3,
   "metadata": {},
   "outputs": [
    {
     "data": {
      "text/plain": [
       "[[' ', ' ', ' ', ' ', ' ', ' ', ' ', ' '],\n",
       " [' ', ' ', ' ', ' ', ' ', ' ', ' ', ' '],\n",
       " [' ', ' ', 'G', ' ', ' ', ' ', ' ', ' '],\n",
       " [' ', ' ', '*', '*', '*', '*', '*', ' '],\n",
       " [' ', '*', ' ', ' ', ' ', ' ', ' ', ' '],\n",
       " [' ', ' ', '*', 'S', ' ', ' ', '*', ' '],\n",
       " [' ', ' ', ' ', ' ', ' ', ' ', ' ', ' '],\n",
       " [' ', ' ', ' ', ' ', ' ', ' ', ' ', ' ']]"
      ]
     },
     "execution_count": 3,
     "metadata": {},
     "output_type": "execute_result"
    }
   ],
   "source": [
    "grid\n"
   ]
  },
  {
   "cell_type": "code",
   "execution_count": 4,
   "metadata": {},
   "outputs": [],
   "source": [
    "def get_cell(state, grid):\n",
    "    r, c = state\n",
    "    return grid[r][c]\n",
    "    \n",
    "def successor_function(state, grid):\n",
    "    # We expand the neighbour follow the order [up, left, right, down]\n",
    "    # Hence we push stack with order [down, right, left, up]\n",
    "    r, c = state\n",
    "    neighbour = []\n",
    "    \n",
    "    if (r + 1 < 8):\n",
    "        down = (r + 1, c)\n",
    "        if get_cell(down, grid) != '*': neighbour.append(down)\n",
    "    if (c + 1 < 8):\n",
    "        right = (r, c + 1)\n",
    "        if get_cell(right, grid) != '*': neighbour.append(right)\n",
    "    if (c - 1 >= 0):\n",
    "        left = (r, c - 1)\n",
    "        if get_cell(left, grid) != '*': neighbour.append(left)\n",
    "    if (r - 1 >= 0):\n",
    "        up = (r - 1, c)\n",
    "        if get_cell(up, grid) != '*': neighbour.append(up)\n",
    "    return neighbour\n",
    "\n",
    "def DFS(s, g, gird):\n",
    "    froniter = [s]\n",
    "    visited = []\n",
    "    while froniter != []:\n",
    "        state = froniter.pop()\n",
    "        if state == g:\n",
    "            print(len(visited))\n",
    "            return visited\n",
    "        elif (state not in visited):\n",
    "            neighbours = successor_function(state, gird)\n",
    "            froniter.extend(neighbours)\n",
    "        if (state not in visited):\n",
    "            visited.append(state)\n",
    "\n",
    "    print(\"no solution\")\n",
    "    print(visited)"
   ]
  },
  {
   "cell_type": "code",
   "execution_count": 5,
   "metadata": {},
   "outputs": [
    {
     "name": "stdout",
     "output_type": "stream",
     "text": [
      "29\n"
     ]
    }
   ],
   "source": [
    "path = DFS(START_STATE, GOAL_STATE, grid)"
   ]
  },
  {
   "cell_type": "code",
   "execution_count": 6,
   "metadata": {},
   "outputs": [],
   "source": [
    "vis.draw_grid()"
   ]
  },
  {
   "cell_type": "code",
   "execution_count": 7,
   "metadata": {},
   "outputs": [],
   "source": [
    "vis.draw_path(path)"
   ]
  },
  {
   "attachments": {},
   "cell_type": "markdown",
   "metadata": {},
   "source": [
    "# Try BFS on this grid search problem\n",
    "- Expand the succerrors in the order: down, left, up, right\n",
    "- Number the nodes as they are removed from the frontier\n",
    "- Use cycle pruning"
   ]
  },
  {
   "cell_type": "code",
   "execution_count": 15,
   "metadata": {},
   "outputs": [],
   "source": [
    "import queue\n",
    "\n",
    "def successor_function_BFS(state, grid):\n",
    "    # We expand [down, left, up, right]\n",
    "    r, c = state\n",
    "    neighbour = []\n",
    "    \n",
    "    if (r + 1 < 8):\n",
    "        down = (r + 1, c)\n",
    "        if get_cell(down, grid) != '*': neighbour.append(down)\n",
    "    if (c - 1 >= 0):\n",
    "        left = (r, c - 1)\n",
    "        if get_cell(left, grid) != '*': neighbour.append(left)\n",
    "    if (r - 1 >= 0):\n",
    "        up = (r - 1, c)\n",
    "        if get_cell(up, grid) != '*': neighbour.append(up)\n",
    "    if (c + 1 < 8):\n",
    "        right = (r, c + 1)\n",
    "        if get_cell(right, grid) != '*': neighbour.append(right)\n",
    "    return neighbour\n",
    "\n",
    "def BFS(s, g, gird):\n",
    "    froniter = queue.Queue()\n",
    "    froniter.put([s])\n",
    "    visited = []\n",
    "    while froniter.empty() == False:\n",
    "        path = froniter.get()\n",
    "        state = path[-1]\n",
    "        if state == g:\n",
    "            print(len(visited))\n",
    "            return path, visited\n",
    "        elif (state not in visited):\n",
    "            neighbours = successor_function(state, gird)\n",
    "            for neighbour in neighbours:\n",
    "                new_path = path + [neighbour]\n",
    "                froniter.put(new_path)\n",
    "\n",
    "        if (state not in visited):\n",
    "            visited.append(state)\n",
    "\n",
    "    print(\"no solution\")"
   ]
  },
  {
   "cell_type": "code",
   "execution_count": 16,
   "metadata": {},
   "outputs": [
    {
     "name": "stdout",
     "output_type": "stream",
     "text": [
      "41\n"
     ]
    }
   ],
   "source": [
    "bfs_path, visited = BFS(START_STATE, GOAL_STATE, grid)"
   ]
  },
  {
   "cell_type": "code",
   "execution_count": 17,
   "metadata": {},
   "outputs": [],
   "source": [
    "vis.draw_grid()"
   ]
  },
  {
   "cell_type": "code",
   "execution_count": 19,
   "metadata": {},
   "outputs": [],
   "source": [
    "vis.draw_visited(visited)"
   ]
  },
  {
   "cell_type": "code",
   "execution_count": 18,
   "metadata": {},
   "outputs": [],
   "source": [
    "vis.draw_grid()"
   ]
  },
  {
   "cell_type": "code",
   "execution_count": 13,
   "metadata": {},
   "outputs": [],
   "source": [
    "vis.draw_path(bfs_path)"
   ]
  },
  {
   "attachments": {},
   "cell_type": "markdown",
   "metadata": {},
   "source": [
    "# Try A* on grid search problem\n",
    "\n",
    "Use Manhattan distance as our heuristic function."
   ]
  },
  {
   "cell_type": "code",
   "execution_count": 14,
   "metadata": {},
   "outputs": [
    {
     "name": "stdout",
     "output_type": "stream",
     "text": [
      "(1, 'Riya')\n",
      "(2, 'Harry')\n",
      "(3, 'Charles')\n",
      "(4, 'Stacy')\n"
     ]
    }
   ],
   "source": [
    "from queue import PriorityQueue\n",
    "pqueue = PriorityQueue() \n",
    "pqueue.put((2, \"Harry\"))\n",
    "pqueue.put((3, \"Charles\"))\n",
    "pqueue.put((1, \"Riya\"))\n",
    "pqueue.put((4, \"Stacy\"))\n",
    "\n",
    "print(pqueue.get())\n",
    "print(pqueue.get())\n",
    "print(pqueue.get())\n",
    "print(pqueue.get())"
   ]
  }
 ],
 "metadata": {
  "kernelspec": {
   "display_name": "Python 3.11.1 64-bit",
   "language": "python",
   "name": "python3"
  },
  "language_info": {
   "codemirror_mode": {
    "name": "ipython",
    "version": 3
   },
   "file_extension": ".py",
   "mimetype": "text/x-python",
   "name": "python",
   "nbconvert_exporter": "python",
   "pygments_lexer": "ipython3",
   "version": "3.10.6"
  },
  "orig_nbformat": 4,
  "vscode": {
   "interpreter": {
    "hash": "aee8b7b246df8f9039afb4144a1f6fd8d2ca17a180786b69acc140d282b71a49"
   }
  }
 },
 "nbformat": 4,
 "nbformat_minor": 2
}
