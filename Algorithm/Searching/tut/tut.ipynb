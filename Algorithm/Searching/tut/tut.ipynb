{
 "cells": [
  {
   "attachments": {},
   "cell_type": "markdown",
   "metadata": {},
   "source": [
    "# Try DFS on this grid search problem\n",
    "- Expand the succerrors in the order: up, left, right and down\n",
    "- Number the nodes as they are removed from the frontier\n",
    "- Use cycle pruning\n",
    "\n",
    "<img src=\"07.png\" />"
   ]
  },
  {
   "attachments": {},
   "cell_type": "markdown",
   "metadata": {},
   "source": [
    "### 签到\n",
    "\n",
    "Sting: 嗨害嗨\n",
    "Ding: hha"
   ]
  },
  {
   "cell_type": "code",
   "execution_count": 7,
   "metadata": {},
   "outputs": [
    {
     "data": {
      "text/plain": [
       "[[' ', ' ', ' ', ' ', ' ', ' ', ' ', ' '],\n",
       " [' ', ' ', ' ', ' ', ' ', ' ', ' ', ' '],\n",
       " [' ', ' ', 'G', ' ', ' ', ' ', ' ', ' '],\n",
       " [' ', ' ', '*', '*', '*', '*', '*', ' '],\n",
       " [' ', '*', ' ', ' ', ' ', ' ', ' ', ' '],\n",
       " [' ', ' ', '*', 'S', ' ', ' ', '*', ' '],\n",
       " [' ', ' ', ' ', ' ', ' ', ' ', ' ', ' '],\n",
       " [' ', ' ', ' ', ' ', ' ', ' ', ' ', ' ']]"
      ]
     },
     "execution_count": 7,
     "metadata": {},
     "output_type": "execute_result"
    }
   ],
   "source": [
    "import vis\n",
    "\n",
    "grid = vis.generate_grid()\n",
    "START_STATE = (5, 3)\n",
    "GOAL_STATE = (2, 2)\n",
    "\n",
    "grid"
   ]
  },
  {
   "attachments": {},
   "cell_type": "markdown",
   "metadata": {},
   "source": [
    "```\n",
    "# G => The Graph\n",
    "# s => start state\n",
    "# goal(n) => Goal test\n",
    "\n",
    "def generalSearchProblem(G, s, goal(n)):\n",
    "    frontier = {[s]}\n",
    "\n",
    "    while frontier is not empty:\n",
    "        select and remove path <n0, ..., nk> from frontier\n",
    "\n",
    "        if (goal(nk)):\n",
    "            return <n0, ..., nk> \n",
    "        \n",
    "        for every neighbour n of nk:\n",
    "            add <n0, ..., nk> to frontier\n",
    "        \n",
    "    return no solution\n",
    "```"
   ]
  },
  {
   "cell_type": "code",
   "execution_count": 8,
   "metadata": {},
   "outputs": [],
   "source": [
    "def get_cell(state, grid):\n",
    "    r, c = state\n",
    "    return grid[r][c]\n"
   ]
  },
  {
   "cell_type": "code",
   "execution_count": 74,
   "metadata": {},
   "outputs": [],
   "source": [
    "def successor_function(state, grid):\n",
    "    # We expand the neighbour follow the order [up, left, right, down]\n",
    "    # Hence we push stack with order [down, right, left, up]\n",
    "    r, c = state\n",
    "    neighbour = []\n",
    "    \n",
    "    if (r + 1 < 8):\n",
    "        down = (r + 1, c)\n",
    "        if get_cell(down, grid) != '*': neighbour.append(down)\n",
    "    if (c + 1 < 8):\n",
    "        right = (r, c + 1)\n",
    "        if get_cell(right, grid) != '*': neighbour.append(right)\n",
    "    if (c - 1 >= 0):\n",
    "        left = (r, c - 1)\n",
    "        if get_cell(left, grid) != '*': neighbour.append(left)\n",
    "    if (r - 1 >= 0):\n",
    "        up = (r - 1, c)\n",
    "        if get_cell(up, grid) != '*': neighbour.append(up)\n",
    "    return neighbour\n",
    "\n",
    "def DFS_ding(s, g, grid):\n",
    "    state = s\n",
    "    frontier = [s]\n",
    "    path = []\n",
    "    while frontier:\n",
    "        state = frontier.pop()\n",
    "\n",
    "        if state == g:\n",
    "            return path\n",
    "\n",
    "        if state not in path:\n",
    "            frontier.extend(successor_function(state, grid))\n",
    "            path.append(state)\n",
    "\n",
    "    return \"no solution\"\n"
   ]
  },
  {
   "cell_type": "code",
   "execution_count": 75,
   "metadata": {},
   "outputs": [],
   "source": [
    "path_ding = DFS_ding(START_STATE, GOAL_STATE, grid)"
   ]
  },
  {
   "cell_type": "code",
   "execution_count": 76,
   "metadata": {},
   "outputs": [],
   "source": [
    "vis.draw_grid()\n",
    "vis.draw_path(path_ding)"
   ]
  },
  {
   "attachments": {},
   "cell_type": "markdown",
   "metadata": {},
   "source": [
    "#### sting"
   ]
  },
  {
   "cell_type": "code",
   "execution_count": 12,
   "metadata": {},
   "outputs": [
    {
     "data": {
      "text/plain": [
       "[1, 3, 4, 2, 5, 6]"
      ]
     },
     "execution_count": 12,
     "metadata": {},
     "output_type": "execute_result"
    }
   ],
   "source": [
    "stack = [1, 3, 5, 7, 9]\n",
    "stack.append(10)\n",
    "stack.pop()\n",
    "stack\n",
    "\n",
    "a = [1 ,3, 4]\n",
    "b = [2, 5, 6]\n",
    "a.extend(b)\n",
    "a"
   ]
  },
  {
   "cell_type": "code",
   "execution_count": 54,
   "metadata": {},
   "outputs": [
    {
     "name": "stdout",
     "output_type": "stream",
     "text": [
      "[(7, 7), (6, 6), (5, 7)]\n"
     ]
    }
   ],
   "source": [
    "def get_cell(state, grid):\n",
    "    r, c = state\n",
    "    return grid[r][c]\n",
    "\n",
    "START_STATE = (5, 3)\n",
    "GOAL_STATE = (2, 2)\n",
    "    \n",
    "def successor_function_sting(state, grid):\n",
    "    # We expand the neighbour follow the order [up, left, right, down]\n",
    "    # Hence we push stack with order [down, right, left, up]\n",
    "    r, c = state\n",
    "    neighbour = []\n",
    "    \n",
    "    if (r + 1 < 8):\n",
    "        down = (r + 1, c)\n",
    "        if get_cell(down, grid) != '*': neighbour.append(down)\n",
    "    if (c + 1 < 8):\n",
    "        right = (r, c + 1)\n",
    "        if get_cell(right, grid) != '*': neighbour.append(right)\n",
    "    if (c - 1 >= 0):\n",
    "        left = (r, c - 1)\n",
    "        if get_cell(left, grid) != '*': neighbour.append(left)\n",
    "    if (r - 1 >= 0):\n",
    "        up = (r - 1, c)\n",
    "        if get_cell(up, grid) != '*': neighbour.append(up)\n",
    "    return neighbour\n",
    "print(successor_function_sting((6,7),grid))"
   ]
  },
  {
   "cell_type": "code",
   "execution_count": 65,
   "metadata": {},
   "outputs": [],
   "source": [
    "def DFS_sting(s, g, grid):\n",
    "    stack = [s]\n",
    "    path = []\n",
    "    while len(stack) != 0:\n",
    "        state = stack.pop()\n",
    "        if state not in path:\n",
    "            stack.extend(successor_function_sting(state,grid))\n",
    "            path.append(state)\n",
    "        if state == g:\n",
    "            print(len(path))\n",
    "            return path\n",
    "\n",
    "    print(\"no solution\")"
   ]
  },
  {
   "cell_type": "code",
   "execution_count": 66,
   "metadata": {},
   "outputs": [
    {
     "name": "stdout",
     "output_type": "stream",
     "text": [
      "30\n"
     ]
    }
   ],
   "source": [
    "path_sting = DFS_sting(START_STATE, GOAL_STATE, grid)"
   ]
  },
  {
   "cell_type": "code",
   "execution_count": 67,
   "metadata": {},
   "outputs": [],
   "source": [
    "vis.draw_grid()\n",
    "vis.draw_path(path_sting)"
   ]
  },
  {
   "attachments": {},
   "cell_type": "markdown",
   "metadata": {},
   "source": [
    "# Try BFS on this grid search problem\n",
    "- Expand the succerrors in the order: down, left, up, right\n",
    "- Number the nodes as they are removed from the frontier\n",
    "- Use cycle pruning"
   ]
  },
  {
   "cell_type": "code",
   "execution_count": 68,
   "metadata": {},
   "outputs": [],
   "source": [
    "import queue\n",
    "\n",
    "froniter = queue.Queue()\n",
    "froniter.put([1])\n",
    "froniter.put([2])"
   ]
  },
  {
   "cell_type": "code",
   "execution_count": null,
   "metadata": {},
   "outputs": [],
   "source": [
    "froniter.get()"
   ]
  },
  {
   "cell_type": "code",
   "execution_count": 77,
   "metadata": {},
   "outputs": [],
   "source": [
    "def successor_function_BFS(state, grid):\n",
    "    # We expand [down, left, up, right]\n",
    "    r, c = state\n",
    "    neighbour = []\n",
    "    \n",
    "    if (r + 1 < 8):\n",
    "        down = (r + 1, c)\n",
    "        if get_cell(down, grid) != '*': neighbour.append(down)\n",
    "    if (c - 1 >= 0):\n",
    "        left = (r, c - 1)\n",
    "        if get_cell(left, grid) != '*': neighbour.append(left)\n",
    "    if (r - 1 >= 0):\n",
    "        up = (r - 1, c)\n",
    "        if get_cell(up, grid) != '*': neighbour.append(up)\n",
    "    if (c + 1 < 8):\n",
    "        right = (r, c + 1)\n",
    "        if get_cell(right, grid) != '*': neighbour.append(right)\n",
    "    return neighbour"
   ]
  },
  {
   "cell_type": "code",
   "execution_count": 85,
   "metadata": {},
   "outputs": [],
   "source": [
    "import queue\n",
    "def BFS_sting(s, g, grid):\n",
    "    frontier = queue.Queue()\n",
    "    frontier.put(s)\n",
    "    path = []\n",
    "    while frontier.empty() == False:\n",
    "        state = frontier.get()\n",
    "        if state not in path:\n",
    "            neighbours = successor_function_BFS(state, grid)\n",
    "            for neighbour in neighbours:\n",
    "                frontier.put(neighbour)\n",
    "            path.append(state)\n",
    "        if state == g:\n",
    "            return path"
   ]
  },
  {
   "cell_type": "code",
   "execution_count": 86,
   "metadata": {},
   "outputs": [],
   "source": [
    "path_sting = BFS_sting(START_STATE, GOAL_STATE, grid)"
   ]
  },
  {
   "cell_type": "code",
   "execution_count": 87,
   "metadata": {},
   "outputs": [],
   "source": [
    "vis.draw_grid()\n",
    "vis.draw_path(path_sting)"
   ]
  },
  {
   "cell_type": "code",
   "execution_count": 88,
   "metadata": {},
   "outputs": [],
   "source": [
    "def successor_function_BFS(state, grid):\n",
    "    # We expand [down, left, up, right]\n",
    "    r, c = state\n",
    "    neighbour = []\n",
    "    \n",
    "    if (r + 1 < 8):\n",
    "        down = (r + 1, c)\n",
    "        if get_cell(down, grid) != '*': neighbour.append(down)\n",
    "    if (c - 1 >= 0):\n",
    "        left = (r, c - 1)\n",
    "        if get_cell(left, grid) != '*': neighbour.append(left)\n",
    "    if (r - 1 >= 0):\n",
    "        up = (r - 1, c)\n",
    "        if get_cell(up, grid) != '*': neighbour.append(up)\n",
    "    if (c + 1 < 8):\n",
    "        right = (r, c + 1)\n",
    "        if get_cell(right, grid) != '*': neighbour.append(right)\n",
    "    return neighbour\n",
    "\n",
    "def BFS(s, g, gird):\n",
    "    frontier = queue.Queue()\n",
    "    frontier.put(s)\n",
    "    path = []\n",
    "    while frontier:\n",
    "        state = frontier.get()\n",
    "\n",
    "        if state == g:\n",
    "            return path\n",
    "\n",
    "        if state not in path:\n",
    "            que = successor_function_BFS(state, grid)\n",
    "            # frontier = queue(map(lambda x : frontier.put(que[x], que)))\n",
    "            for i in range(len(que)):\n",
    "                frontier.put(que[i])\n",
    "            path.append(state)\n",
    "        \n",
    "    return \"no solution\""
   ]
  },
  {
   "cell_type": "code",
   "execution_count": 89,
   "metadata": {},
   "outputs": [],
   "source": [
    "bfs_path = BFS(START_STATE, GOAL_STATE, grid)"
   ]
  },
  {
   "cell_type": "code",
   "execution_count": 90,
   "metadata": {},
   "outputs": [
    {
     "ename": "Terminator",
     "evalue": "",
     "output_type": "error",
     "traceback": [
      "\u001b[0;31m---------------------------------------------------------------------------\u001b[0m",
      "\u001b[0;31mTclError\u001b[0m                                  Traceback (most recent call last)",
      "File \u001b[0;32m<string>:8\u001b[0m, in \u001b[0;36msetposition\u001b[0;34m(x, y)\u001b[0m\n",
      "File \u001b[0;32m/Library/Frameworks/Python.framework/Versions/3.10/lib/python3.10/turtle.py:1777\u001b[0m, in \u001b[0;36mTNavigator.goto\u001b[0;34m(self, x, y)\u001b[0m\n\u001b[1;32m   1776\u001b[0m \u001b[39melse\u001b[39;00m:\n\u001b[0;32m-> 1777\u001b[0m     \u001b[39mself\u001b[39;49m\u001b[39m.\u001b[39;49m_goto(Vec2D(x, y))\n",
      "File \u001b[0;32m/Library/Frameworks/Python.framework/Versions/3.10/lib/python3.10/turtle.py:3178\u001b[0m, in \u001b[0;36mRawTurtle._goto\u001b[0;34m(self, end)\u001b[0m\n\u001b[1;32m   3177\u001b[0m \u001b[39mif\u001b[39;00m \u001b[39mself\u001b[39m\u001b[39m.\u001b[39m_drawing:\n\u001b[0;32m-> 3178\u001b[0m     screen\u001b[39m.\u001b[39;49m_drawline(\u001b[39mself\u001b[39;49m\u001b[39m.\u001b[39;49mdrawingLineItem,\n\u001b[1;32m   3179\u001b[0m                      (start, \u001b[39mself\u001b[39;49m\u001b[39m.\u001b[39;49m_position),\n\u001b[1;32m   3180\u001b[0m                      \u001b[39mself\u001b[39;49m\u001b[39m.\u001b[39;49m_pencolor, \u001b[39mself\u001b[39;49m\u001b[39m.\u001b[39;49m_pensize, top)\n\u001b[1;32m   3181\u001b[0m \u001b[39mself\u001b[39m\u001b[39m.\u001b[39m_update()\n",
      "File \u001b[0;32m/Library/Frameworks/Python.framework/Versions/3.10/lib/python3.10/turtle.py:544\u001b[0m, in \u001b[0;36mTurtleScreenBase._drawline\u001b[0;34m(self, lineitem, coordlist, fill, width, top)\u001b[0m\n\u001b[1;32m    543\u001b[0m         cl\u001b[39m.\u001b[39mappend(\u001b[39m-\u001b[39my \u001b[39m*\u001b[39m \u001b[39mself\u001b[39m\u001b[39m.\u001b[39myscale)\n\u001b[0;32m--> 544\u001b[0m     \u001b[39mself\u001b[39;49m\u001b[39m.\u001b[39;49mcv\u001b[39m.\u001b[39;49mcoords(lineitem, \u001b[39m*\u001b[39;49mcl)\n\u001b[1;32m    545\u001b[0m \u001b[39mif\u001b[39;00m fill \u001b[39mis\u001b[39;00m \u001b[39mnot\u001b[39;00m \u001b[39mNone\u001b[39;00m:\n",
      "File \u001b[0;32m<string>:1\u001b[0m, in \u001b[0;36mcoords\u001b[0;34m(self, *args, **kw)\u001b[0m\n",
      "File \u001b[0;32m/Library/Frameworks/Python.framework/Versions/3.10/lib/python3.10/tkinter/__init__.py:2795\u001b[0m, in \u001b[0;36mCanvas.coords\u001b[0;34m(self, *args)\u001b[0m\n\u001b[1;32m   2792\u001b[0m \u001b[39m# XXX Should use _flatten on args\u001b[39;00m\n\u001b[1;32m   2793\u001b[0m \u001b[39mreturn\u001b[39;00m [\u001b[39mself\u001b[39m\u001b[39m.\u001b[39mtk\u001b[39m.\u001b[39mgetdouble(x) \u001b[39mfor\u001b[39;00m x \u001b[39min\u001b[39;00m\n\u001b[1;32m   2794\u001b[0m                    \u001b[39mself\u001b[39m\u001b[39m.\u001b[39mtk\u001b[39m.\u001b[39msplitlist(\n\u001b[0;32m-> 2795\u001b[0m            \u001b[39mself\u001b[39;49m\u001b[39m.\u001b[39;49mtk\u001b[39m.\u001b[39;49mcall((\u001b[39mself\u001b[39;49m\u001b[39m.\u001b[39;49m_w, \u001b[39m'\u001b[39;49m\u001b[39mcoords\u001b[39;49m\u001b[39m'\u001b[39;49m) \u001b[39m+\u001b[39;49m args))]\n",
      "\u001b[0;31mTclError\u001b[0m: invalid command name \".!canvas\"",
      "\nDuring handling of the above exception, another exception occurred:\n",
      "\u001b[0;31mTerminator\u001b[0m                                Traceback (most recent call last)",
      "\u001b[1;32m/Users/dongpochen/Github/Data_Structure_and_Algorithm/Algorithm/Searching/tut/tut.ipynb Cell 25\u001b[0m in \u001b[0;36m<cell line: 2>\u001b[0;34m()\u001b[0m\n\u001b[1;32m      <a href='vscode-notebook-cell:/Users/dongpochen/Github/Data_Structure_and_Algorithm/Algorithm/Searching/tut/tut.ipynb#X22sZmlsZQ%3D%3D?line=0'>1</a>\u001b[0m vis\u001b[39m.\u001b[39mdraw_grid()\n\u001b[0;32m----> <a href='vscode-notebook-cell:/Users/dongpochen/Github/Data_Structure_and_Algorithm/Algorithm/Searching/tut/tut.ipynb#X22sZmlsZQ%3D%3D?line=1'>2</a>\u001b[0m vis\u001b[39m.\u001b[39;49mdraw_path(bfs_path)\n",
      "File \u001b[0;32m~/Github/Data_Structure_and_Algorithm/Algorithm/Searching/tut/vis.py:102\u001b[0m, in \u001b[0;36mdraw_path\u001b[0;34m(path)\u001b[0m\n\u001b[1;32m    100\u001b[0m counter \u001b[39m+\u001b[39m\u001b[39m=\u001b[39m \u001b[39m1\u001b[39m\n\u001b[1;32m    101\u001b[0m x, y \u001b[39m=\u001b[39m state_to_grid(state)\n\u001b[0;32m--> 102\u001b[0m t\u001b[39m.\u001b[39;49msetposition(x, y)\n\u001b[1;32m    103\u001b[0m t\u001b[39m.\u001b[39mwrite(\u001b[39mstr\u001b[39m(counter), move\u001b[39m=\u001b[39m\u001b[39mTrue\u001b[39;00m)\n",
      "File \u001b[0;32m<string>:12\u001b[0m, in \u001b[0;36msetposition\u001b[0;34m(x, y)\u001b[0m\n",
      "\u001b[0;31mTerminator\u001b[0m: "
     ]
    }
   ],
   "source": [
    "vis.draw_grid()\n",
    "vis.draw_path(bfs_path)"
   ]
  },
  {
   "attachments": {},
   "cell_type": "markdown",
   "metadata": {},
   "source": [
    "# Try A* on grid search problem\n",
    "\n",
    "Use Manhattan distance as our heuristic function."
   ]
  },
  {
   "cell_type": "code",
   "execution_count": 1,
   "metadata": {},
   "outputs": [
    {
     "name": "stdout",
     "output_type": "stream",
     "text": [
      "(1, 'Riya')\n",
      "(2, 'Harry')\n",
      "(3, 'Charles')\n",
      "(4, 'Stacy')\n"
     ]
    }
   ],
   "source": [
    "from queue import PriorityQueue\n",
    "pqueue = PriorityQueue() \n",
    "pqueue.put((2, \"Harry\"))\n",
    "pqueue.put((3, \"Charles\"))\n",
    "pqueue.put((1, \"Riya\"))\n",
    "pqueue.put((4, \"Stacy\"))\n",
    "\n",
    "print(pqueue.get())\n",
    "print(pqueue.get())\n",
    "print(pqueue.get())\n",
    "print(pqueue.get())"
   ]
  },
  {
   "attachments": {},
   "cell_type": "markdown",
   "metadata": {},
   "source": [
    "## Q2. Number of Islands\n",
    "\n",
    "Given an m x n 2D binary grid grid which represents a map of '1's (land) and '0's (water), return the number of islands.\n",
    "\n",
    "An island is surrounded by water and is formed by connecting adjacent lands horizontally or vertically. You may assume all four edges of the grid are all surrounded by water.\n",
    "\n",
    "Example 1:\n",
    "```\n",
    "Input: grid = [\n",
    "  [\"1\",\"1\",\"1\",\"1\",\"0\"],\n",
    "  [\"1\",\"1\",\"0\",\"1\",\"0\"],\n",
    "  [\"1\",\"1\",\"0\",\"0\",\"0\"],\n",
    "  [\"0\",\"0\",\"0\",\"0\",\"0\"]\n",
    "]\n",
    "Output: 1\n",
    "```\n",
    "\n",
    "Example 2:\n",
    "\n",
    "```\n",
    "Input: grid = [\n",
    "  [\"1\",\"1\",\"0\",\"0\",\"0\"],\n",
    "  [\"1\",\"1\",\"0\",\"0\",\"0\"],\n",
    "  [\"0\",\"0\",\"1\",\"0\",\"0\"],\n",
    "  [\"0\",\"0\",\"0\",\"1\",\"1\"]\n",
    "]\n",
    "Output: 3\n",
    "```\n",
    "\n",
    "Constraints:\n",
    "\n",
    "m == grid.length <br />\n",
    "n == grid[i].length <br />\n",
    "1 <= m, n <= 300 <br />\n",
    "grid[i][j] is '0' or '1'."
   ]
  },
  {
   "cell_type": "code",
   "execution_count": null,
   "metadata": {},
   "outputs": [],
   "source": [
    "'''\n",
    "state = (0, 1)\n",
    "state[0] => x\n",
    "'''\n",
    "\n",
    "def DFS_sting(s, g, grid):\n",
    "    stack = [s]\n",
    "    path = []\n",
    "    while len(stack) != 0:\n",
    "        state = stack.pop()\n",
    "        if state not in path:\n",
    "            stack.extend(successor_function_sting(state,grid))\n",
    "            path.append(state)\n",
    "        if state == g:\n",
    "            print(len(path))\n",
    "            return path\n",
    "\n",
    "    print(\"no solution\")"
   ]
  },
  {
   "cell_type": "code",
   "execution_count": 3,
   "metadata": {},
   "outputs": [],
   "source": [
    "def successor_1(grid,state):\n",
    "    x,y = state\n",
    "    lst = []\n",
    "    if x > 0 and grid[x-1][y] == \"1\":\n",
    "        lst.append((x-1,y))\n",
    "    if x < len(grid) - 1 and grid[x+1][y] == \"1\":\n",
    "        lst.append((x+1,y))\n",
    "    if y > 0 and grid[x][y-1] == \"1\":\n",
    "        lst.append((x,y-1))\n",
    "    if y < len(grid[0]) - 1 and grid[x][y+1] == \"1\":\n",
    "        lst.append((x,y+1))\n",
    "    return lst\n",
    "\n",
    "def numberOfIslands(s, g, grid):\n",
    "    for i in len(grid):\n",
    "        for j in len(grid[0]):\n",
    "            stack = [(i, j)]\n",
    "            path = []\n",
    "            while len(stack) != 0:\n",
    "                state = stack.pop()\n",
    "                if state not in stack:\n",
    "                    stack.extend(successor_1(grid,state))\n",
    "                    path.append(state)\n",
    "                if state == g:\n",
    "                    print(len(path))\n",
    "                    return path"
   ]
  },
  {
   "cell_type": "code",
   "execution_count": 5,
   "metadata": {},
   "outputs": [
    {
     "name": "stdout",
     "output_type": "stream",
     "text": [
      "[(1, 0), (0, 1)]\n",
      "[(0, 1), (2, 1), (1, 0)]\n",
      "[]\n"
     ]
    }
   ],
   "source": [
    "input_grid_1 = [\n",
    "  [\"1\",\"1\",\"1\",\"1\",\"0\"],\n",
    "  [\"1\",\"1\",\"0\",\"1\",\"0\"],\n",
    "  [\"1\",\"1\",\"0\",\"0\",\"0\"],\n",
    "  [\"0\",\"0\",\"0\",\"0\",\"0\"]\n",
    "]\n",
    "\n",
    "print(successor_1(input_grid_1, (0, 0)))\n",
    "print(successor_1(input_grid_1, (1, 1)))\n",
    "print(successor_1(input_grid_1, (3, 4)))"
   ]
  },
  {
   "cell_type": "code",
   "execution_count": null,
   "metadata": {},
   "outputs": [],
   "source": [
    "def successor(state):\n",
    "    pass\n",
    "\n",
    "def numberOfIsland(grid):\n",
    "    pass"
   ]
  },
  {
   "cell_type": "code",
   "execution_count": null,
   "metadata": {},
   "outputs": [],
   "source": [
    "input_grid_1 = [\n",
    "  [\"1\",\"1\",\"1\",\"1\",\"0\"],\n",
    "  [\"1\",\"1\",\"0\",\"1\",\"0\"],\n",
    "  [\"1\",\"1\",\"0\",\"0\",\"0\"],\n",
    "  [\"0\",\"0\",\"0\",\"0\",\"0\"]\n",
    "]\n",
    "\n",
    "input_grid_2 = [\n",
    "  [\"1\",\"1\",\"0\",\"0\",\"0\"],\n",
    "  [\"1\",\"1\",\"0\",\"0\",\"0\"],\n",
    "  [\"0\",\"0\",\"1\",\"0\",\"0\"],\n",
    "  [\"0\",\"0\",\"0\",\"1\",\"1\"]\n",
    "]"
   ]
  },
  {
   "attachments": {},
   "cell_type": "markdown",
   "metadata": {},
   "source": [
    "# Minimum Score of a Path Between Two Cities\n",
    "\n",
    "https://leetcode.com/problems/minimum-score-of-a-path-between-two-cities/description/"
   ]
  },
  {
   "cell_type": "code",
   "execution_count": null,
   "metadata": {},
   "outputs": [],
   "source": [
    "def minScore(n, roads):\n",
    "    pass"
   ]
  },
  {
   "cell_type": "code",
   "execution_count": null,
   "metadata": {},
   "outputs": [],
   "source": [
    "minScore(4, [[1,2,2],[1,3,4],[3,4,7]])"
   ]
  },
  {
   "cell_type": "code",
   "execution_count": null,
   "metadata": {},
   "outputs": [],
   "source": [
    "minScore(2, [[1,2,2],[1,3,4],[3,4,7]])"
   ]
  },
  {
   "cell_type": "code",
   "execution_count": null,
   "metadata": {},
   "outputs": [],
   "source": []
  }
 ],
 "metadata": {
  "kernelspec": {
   "display_name": "Python 3",
   "language": "python",
   "name": "python3"
  },
  "language_info": {
   "codemirror_mode": {
    "name": "ipython",
    "version": 3
   },
   "file_extension": ".py",
   "mimetype": "text/x-python",
   "name": "python",
   "nbconvert_exporter": "python",
   "pygments_lexer": "ipython3",
   "version": "3.10.6 (v3.10.6:9c7b4bd164, Aug  1 2022, 17:13:48) [Clang 13.0.0 (clang-1300.0.29.30)]"
  },
  "orig_nbformat": 4,
  "vscode": {
   "interpreter": {
    "hash": "aee8b7b246df8f9039afb4144a1f6fd8d2ca17a180786b69acc140d282b71a49"
   }
  }
 },
 "nbformat": 4,
 "nbformat_minor": 2
}
