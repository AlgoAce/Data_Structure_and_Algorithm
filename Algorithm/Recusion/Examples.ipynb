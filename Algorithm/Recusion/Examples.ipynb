{
 "cells": [
  {
   "attachments": {},
   "cell_type": "markdown",
   "metadata": {},
   "source": [
    "# Recusion"
   ]
  },
  {
   "attachments": {},
   "cell_type": "markdown",
   "metadata": {},
   "source": [
    "## Pow\n",
    "\n",
    "Implement `pow(x, n)`, which calculates x raised to the power n (i.e., xn).\n",
    "\n",
    "You can only use recusions.\n",
    "\n",
    "---\n",
    "\n",
    "***Examples:***\n",
    "```\n",
    "pow(2.00000, 10) => 1024.00000\n",
    "\n",
    "pow(2.10000, 3) => 9.26100\n",
    "\n",
    "pow(2.00000, -2) => 0.25\n",
    "```"
   ]
  },
  {
   "cell_type": "code",
   "execution_count": null,
   "metadata": {},
   "outputs": [],
   "source": [
    "def myPow(x, n):\n",
    "    pass"
   ]
  },
  {
   "cell_type": "code",
   "execution_count": null,
   "metadata": {},
   "outputs": [],
   "source": [
    "def function(x, n):\n",
    "    exponent = abs(n)\n",
    "    if exponent == 0:\n",
    "        return 1\n",
    "    elif exponent % 2 == 0:\n",
    "        return function(x * x, exponent // 2)\n",
    "    else:\n",
    "        return x * function(x * x, (exponent - 1) // 2)\n",
    "\n",
    "def myPow(x, n):\n",
    "    f = function(x, n)\n",
    "    return float(f) if n >= 0 else 1/f   "
   ]
  },
  {
   "attachments": {},
   "cell_type": "markdown",
   "metadata": {},
   "source": [
    "## Alice Through the Looking Glass\n",
    "\n",
    "https://www.cemc.uwaterloo.ca/contests/computing/past_ccc_contests/2011/stage1/seniorEn.pdf"
   ]
  },
  {
   "cell_type": "code",
   "execution_count": null,
   "metadata": {},
   "outputs": [],
   "source": [
    "def crystalSquaresatX(m,x):\n",
    "    if m >= 1:\n",
    "        power = 5 ** (m-1)\n",
    "        location = x // power\n",
    "        if location == 0 or location == 4:\n",
    "            return 0\n",
    "        elif location == 1 or location == 3:\n",
    "            return 1 * power + crystalSquaresatX(m - 1, x % power)\n",
    "        elif location == 2:\n",
    "            return 2 * power + crystalSquaresatX(m - 1, x % power)\n",
    "    return 0"
   ]
  }
 ],
 "metadata": {
  "kernelspec": {
   "display_name": "Python 3",
   "language": "python",
   "name": "python3"
  },
  "language_info": {
   "name": "python",
   "version": "3.10.6 (v3.10.6:9c7b4bd164, Aug  1 2022, 17:13:48) [Clang 13.0.0 (clang-1300.0.29.30)]"
  },
  "orig_nbformat": 4,
  "vscode": {
   "interpreter": {
    "hash": "aee8b7b246df8f9039afb4144a1f6fd8d2ca17a180786b69acc140d282b71a49"
   }
  }
 },
 "nbformat": 4,
 "nbformat_minor": 2
}
