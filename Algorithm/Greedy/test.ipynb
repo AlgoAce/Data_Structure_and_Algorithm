{
 "cells": [
  {
   "cell_type": "code",
   "execution_count": 5,
   "metadata": {},
   "outputs": [],
   "source": [
    "coins = [100, 25, 10, 5, 1]"
   ]
  },
  {
   "cell_type": "code",
   "execution_count": null,
   "metadata": {},
   "outputs": [],
   "source": [
    "def coin_change_ding(total, coins):\n",
    "    coins.sort(reverse = True)\n",
    "    amount = 0\n",
    "    ans = 0\n",
    "    while amount != total:\n",
    "        ans += 1\n",
    "        for coin in coins:\n",
    "            if coin <= total - amount:\n",
    "                amount += coin\n",
    "    \n",
    "    return ans + 1\n",
    "\n"
   ]
  },
  {
   "cell_type": "code",
   "execution_count": 31,
   "metadata": {},
   "outputs": [
    {
     "name": "stdout",
     "output_type": "stream",
     "text": [
      "25 25\n",
      "35 10\n",
      "36 1\n",
      "37 1\n",
      "2 Abel\n"
     ]
    },
    {
     "ename": "KeyboardInterrupt",
     "evalue": "",
     "output_type": "error",
     "traceback": [
      "\u001b[0;31m---------------------------------------------------------------------------\u001b[0m",
      "\u001b[0;31mKeyboardInterrupt\u001b[0m                         Traceback (most recent call last)",
      "\u001b[1;32m/Users/dongpochen/Github/CCC_Jan_2023/Lecture/9_Greedy/test.ipynb Cell 3\u001b[0m in \u001b[0;36m<cell line: 2>\u001b[0;34m()\u001b[0m\n\u001b[1;32m      <a href='vscode-notebook-cell:/Users/dongpochen/Github/CCC_Jan_2023/Lecture/9_Greedy/test.ipynb#W3sZmlsZQ%3D%3D?line=0'>1</a>\u001b[0m \u001b[39mprint\u001b[39m(coin_change_ding(\u001b[39m37\u001b[39m, coins), \u001b[39m\"\u001b[39m\u001b[39mAbel\u001b[39m\u001b[39m\"\u001b[39m)\n\u001b[0;32m----> <a href='vscode-notebook-cell:/Users/dongpochen/Github/CCC_Jan_2023/Lecture/9_Greedy/test.ipynb#W3sZmlsZQ%3D%3D?line=1'>2</a>\u001b[0m \u001b[39mprint\u001b[39m(coin_change_sting(\u001b[39m37\u001b[39;49m, coins), )\n",
      "\u001b[1;32m/Users/dongpochen/Github/CCC_Jan_2023/Lecture/9_Greedy/test.ipynb Cell 3\u001b[0m in \u001b[0;36mcoin_change_sting\u001b[0;34m(total, coins)\u001b[0m\n\u001b[1;32m     <a href='vscode-notebook-cell:/Users/dongpochen/Github/CCC_Jan_2023/Lecture/9_Greedy/test.ipynb#W3sZmlsZQ%3D%3D?line=18'>19</a>\u001b[0m     \u001b[39mfor\u001b[39;00m coin \u001b[39min\u001b[39;00m coins:\n\u001b[1;32m     <a href='vscode-notebook-cell:/Users/dongpochen/Github/CCC_Jan_2023/Lecture/9_Greedy/test.ipynb#W3sZmlsZQ%3D%3D?line=19'>20</a>\u001b[0m         \u001b[39mif\u001b[39;00m coin \u001b[39m<\u001b[39m total:\n\u001b[0;32m---> <a href='vscode-notebook-cell:/Users/dongpochen/Github/CCC_Jan_2023/Lecture/9_Greedy/test.ipynb#W3sZmlsZQ%3D%3D?line=20'>21</a>\u001b[0m             out \u001b[39m+\u001b[39m\u001b[39m=\u001b[39m \u001b[39m1\u001b[39m\n\u001b[1;32m     <a href='vscode-notebook-cell:/Users/dongpochen/Github/CCC_Jan_2023/Lecture/9_Greedy/test.ipynb#W3sZmlsZQ%3D%3D?line=21'>22</a>\u001b[0m             cnt \u001b[39m-\u001b[39m\u001b[39m=\u001b[39m coin\n\u001b[1;32m     <a href='vscode-notebook-cell:/Users/dongpochen/Github/CCC_Jan_2023/Lecture/9_Greedy/test.ipynb#W3sZmlsZQ%3D%3D?line=22'>23</a>\u001b[0m \u001b[39mreturn\u001b[39;00m out\n",
      "\u001b[0;31mKeyboardInterrupt\u001b[0m: "
     ]
    }
   ],
   "source": [
    "print(coin_change_ding(37, coins), \"Abel\")\n",
    "\n",
    "\n"
   ]
  },
  {
   "cell_type": "code",
   "execution_count": 32,
   "metadata": {},
   "outputs": [
    {
     "ename": "KeyboardInterrupt",
     "evalue": "",
     "output_type": "error",
     "traceback": [
      "\u001b[0;31m---------------------------------------------------------------------------\u001b[0m",
      "\u001b[0;31mKeyboardInterrupt\u001b[0m                         Traceback (most recent call last)",
      "\u001b[1;32m/Users/dongpochen/Github/CCC_Jan_2023/Lecture/9_Greedy/test.ipynb Cell 4\u001b[0m in \u001b[0;36m<cell line: 10>\u001b[0;34m()\u001b[0m\n\u001b[1;32m      <a href='vscode-notebook-cell:/Users/dongpochen/Github/CCC_Jan_2023/Lecture/9_Greedy/test.ipynb#W5sZmlsZQ%3D%3D?line=7'>8</a>\u001b[0m                 cnt \u001b[39m-\u001b[39m\u001b[39m=\u001b[39m coin\n\u001b[1;32m      <a href='vscode-notebook-cell:/Users/dongpochen/Github/CCC_Jan_2023/Lecture/9_Greedy/test.ipynb#W5sZmlsZQ%3D%3D?line=8'>9</a>\u001b[0m     \u001b[39mreturn\u001b[39;00m out\n\u001b[0;32m---> <a href='vscode-notebook-cell:/Users/dongpochen/Github/CCC_Jan_2023/Lecture/9_Greedy/test.ipynb#W5sZmlsZQ%3D%3D?line=9'>10</a>\u001b[0m coin_change_sting(\u001b[39m241\u001b[39;49m, coins)\n",
      "\u001b[1;32m/Users/dongpochen/Github/CCC_Jan_2023/Lecture/9_Greedy/test.ipynb Cell 4\u001b[0m in \u001b[0;36mcoin_change_sting\u001b[0;34m(total, coins)\u001b[0m\n\u001b[1;32m      <a href='vscode-notebook-cell:/Users/dongpochen/Github/CCC_Jan_2023/Lecture/9_Greedy/test.ipynb#W5sZmlsZQ%3D%3D?line=2'>3</a>\u001b[0m out \u001b[39m=\u001b[39m \u001b[39m0\u001b[39m\n\u001b[1;32m      <a href='vscode-notebook-cell:/Users/dongpochen/Github/CCC_Jan_2023/Lecture/9_Greedy/test.ipynb#W5sZmlsZQ%3D%3D?line=3'>4</a>\u001b[0m \u001b[39mwhile\u001b[39;00m cnt \u001b[39m!=\u001b[39m \u001b[39m0\u001b[39m:\n\u001b[0;32m----> <a href='vscode-notebook-cell:/Users/dongpochen/Github/CCC_Jan_2023/Lecture/9_Greedy/test.ipynb#W5sZmlsZQ%3D%3D?line=4'>5</a>\u001b[0m     \u001b[39mfor\u001b[39;00m coin \u001b[39min\u001b[39;00m coins:\n\u001b[1;32m      <a href='vscode-notebook-cell:/Users/dongpochen/Github/CCC_Jan_2023/Lecture/9_Greedy/test.ipynb#W5sZmlsZQ%3D%3D?line=5'>6</a>\u001b[0m         \u001b[39mif\u001b[39;00m coin \u001b[39m>\u001b[39m total:\n\u001b[1;32m      <a href='vscode-notebook-cell:/Users/dongpochen/Github/CCC_Jan_2023/Lecture/9_Greedy/test.ipynb#W5sZmlsZQ%3D%3D?line=6'>7</a>\u001b[0m             out \u001b[39m+\u001b[39m\u001b[39m=\u001b[39m \u001b[39m1\u001b[39m\n",
      "\u001b[0;31mKeyboardInterrupt\u001b[0m: "
     ]
    }
   ],
   "source": [
    "def coin_change_sting(total, coins):\n",
    "    cnt = total\n",
    "    out = 0\n",
    "    while cnt != 0:\n",
    "        for coin in coins:\n",
    "            if coin > total:\n",
    "                out += 1\n",
    "                cnt -= coin\n",
    "    return out\n",
    "coin_change_sting(241, coins)"
   ]
  },
  {
   "cell_type": "code",
   "execution_count": 10,
   "metadata": {},
   "outputs": [
    {
     "data": {
      "text/plain": [
       "0"
      ]
     },
     "execution_count": 10,
     "metadata": {},
     "output_type": "execute_result"
    }
   ],
   "source": [
    "coin_change_sting(135, coins\n",
    "coin_change_sting(135, coins)\n",
    ")"
   ]
  },
  {
   "cell_type": "code",
   "execution_count": 11,
   "metadata": {},
   "outputs": [
    {
     "data": {
      "text/plain": [
       "0"
      ]
     },
     "execution_count": 11,
     "metadata": {},
     "output_type": "execute_result"
    }
   ],
   "source": [
    "coin_change_sting(65, coins\n",
    "coin_change_sting(65, coins)\n",
    ")"
   ]
  }
 ],
 "metadata": {
  "kernelspec": {
   "display_name": "base",
   "language": "python",
   "name": "python3"
  },
  "language_info": {
   "codemirror_mode": {
    "name": "ipython",
    "version": 3
   },
   "file_extension": ".py",
   "mimetype": "text/x-python",
   "name": "python",
   "nbconvert_exporter": "python",
   "pygments_lexer": "ipython3",
   "version": "3.9.12"
  },
  "orig_nbformat": 4
 },
 "nbformat": 4,
 "nbformat_minor": 2
}
